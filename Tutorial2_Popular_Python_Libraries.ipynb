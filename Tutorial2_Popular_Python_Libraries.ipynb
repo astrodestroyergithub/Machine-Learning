{
  "nbformat": 4,
  "nbformat_minor": 0,
  "metadata": {
    "colab": {
      "name": "Tutorial2.ipynb",
      "provenance": []
    },
    "kernelspec": {
      "name": "python3",
      "display_name": "Python 3"
    },
    "language_info": {
      "name": "python"
    }
  },
  "cells": [
    {
      "cell_type": "markdown",
      "metadata": {
        "id": "K8Sx7taugg9L"
      },
      "source": [
        "# 'NumPy' Package"
      ]
    },
    {
      "cell_type": "code",
      "metadata": {
        "id": "nsR9bwfRgbV3"
      },
      "source": [
        "import numpy as np"
      ],
      "execution_count": 1,
      "outputs": []
    },
    {
      "cell_type": "code",
      "metadata": {
        "id": "GvALjc3bgxjM"
      },
      "source": [
        "np1=np.array([1,2,3,4])"
      ],
      "execution_count": 2,
      "outputs": []
    },
    {
      "cell_type": "code",
      "metadata": {
        "colab": {
          "base_uri": "https://localhost:8080/"
        },
        "id": "nS1eDLUng6tM",
        "outputId": "897dd670-5df8-47ee-b991-d31f4e7887bb"
      },
      "source": [
        "np1"
      ],
      "execution_count": 3,
      "outputs": [
        {
          "output_type": "execute_result",
          "data": {
            "text/plain": [
              "array([1, 2, 3, 4])"
            ]
          },
          "metadata": {
            "tags": []
          },
          "execution_count": 3
        }
      ]
    },
    {
      "cell_type": "code",
      "metadata": {
        "colab": {
          "base_uri": "https://localhost:8080/"
        },
        "id": "5jk8vsfng8Cj",
        "outputId": "7ddc7d74-d52c-4be9-a0cf-2e4d4929a964"
      },
      "source": [
        "type(np1)"
      ],
      "execution_count": 4,
      "outputs": [
        {
          "output_type": "execute_result",
          "data": {
            "text/plain": [
              "numpy.ndarray"
            ]
          },
          "metadata": {
            "tags": []
          },
          "execution_count": 4
        }
      ]
    },
    {
      "cell_type": "code",
      "metadata": {
        "id": "M8l2oiiNg_HI"
      },
      "source": [
        "Mat1=np.array([[1,2],[3,4],[5,6]])"
      ],
      "execution_count": 5,
      "outputs": []
    },
    {
      "cell_type": "code",
      "metadata": {
        "colab": {
          "base_uri": "https://localhost:8080/"
        },
        "id": "bEf1HtLDhFld",
        "outputId": "7a5de433-71e0-4ce6-873f-34141f5ef961"
      },
      "source": [
        "Mat1"
      ],
      "execution_count": 6,
      "outputs": [
        {
          "output_type": "execute_result",
          "data": {
            "text/plain": [
              "array([[1, 2],\n",
              "       [3, 4],\n",
              "       [5, 6]])"
            ]
          },
          "metadata": {
            "tags": []
          },
          "execution_count": 6
        }
      ]
    },
    {
      "cell_type": "code",
      "metadata": {
        "colab": {
          "base_uri": "https://localhost:8080/"
        },
        "id": "IPJcOCYvhHqZ",
        "outputId": "d284f8dd-a258-44a9-cd4a-cc41cb7fd21e"
      },
      "source": [
        "np1.shape"
      ],
      "execution_count": 8,
      "outputs": [
        {
          "output_type": "execute_result",
          "data": {
            "text/plain": [
              "(4,)"
            ]
          },
          "metadata": {
            "tags": []
          },
          "execution_count": 8
        }
      ]
    },
    {
      "cell_type": "code",
      "metadata": {
        "colab": {
          "base_uri": "https://localhost:8080/"
        },
        "id": "mzdcxxDNhMKR",
        "outputId": "1c5f343b-04f0-45af-a856-6916968b274c"
      },
      "source": [
        "Mat1.shape"
      ],
      "execution_count": 9,
      "outputs": [
        {
          "output_type": "execute_result",
          "data": {
            "text/plain": [
              "(3, 2)"
            ]
          },
          "metadata": {
            "tags": []
          },
          "execution_count": 9
        }
      ]
    },
    {
      "cell_type": "code",
      "metadata": {
        "colab": {
          "base_uri": "https://localhost:8080/"
        },
        "id": "cManMgwChOFy",
        "outputId": "e5ae2d90-d443-489c-84c5-d476d9bbfbe0"
      },
      "source": [
        "Mat1.dtype"
      ],
      "execution_count": 10,
      "outputs": [
        {
          "output_type": "execute_result",
          "data": {
            "text/plain": [
              "dtype('int64')"
            ]
          },
          "metadata": {
            "tags": []
          },
          "execution_count": 10
        }
      ]
    },
    {
      "cell_type": "code",
      "metadata": {
        "id": "r4O71q_2hSEx"
      },
      "source": [
        "Mat1[0,0]=5"
      ],
      "execution_count": 11,
      "outputs": []
    },
    {
      "cell_type": "code",
      "metadata": {
        "colab": {
          "base_uri": "https://localhost:8080/"
        },
        "id": "XMRj8AQuhXfH",
        "outputId": "a1155ac5-1eee-4b32-fc4d-bc25924d8c53"
      },
      "source": [
        "Mat1"
      ],
      "execution_count": 12,
      "outputs": [
        {
          "output_type": "execute_result",
          "data": {
            "text/plain": [
              "array([[5, 2],\n",
              "       [3, 4],\n",
              "       [5, 6]])"
            ]
          },
          "metadata": {
            "tags": []
          },
          "execution_count": 12
        }
      ]
    },
    {
      "cell_type": "code",
      "metadata": {
        "colab": {
          "base_uri": "https://localhost:8080/",
          "height": 164
        },
        "id": "BfnkcqkxhY3Z",
        "outputId": "3485ce8b-935d-47b1-f702-351545a8c973"
      },
      "source": [
        "Mat[0,1]=\"Kelam\""
      ],
      "execution_count": 13,
      "outputs": [
        {
          "output_type": "error",
          "ename": "NameError",
          "evalue": "ignored",
          "traceback": [
            "\u001b[0;31m---------------------------------------------------------------------------\u001b[0m",
            "\u001b[0;31mNameError\u001b[0m                                 Traceback (most recent call last)",
            "\u001b[0;32m<ipython-input-13-1d35e2b3008f>\u001b[0m in \u001b[0;36m<module>\u001b[0;34m()\u001b[0m\n\u001b[0;32m----> 1\u001b[0;31m \u001b[0mMat\u001b[0m\u001b[0;34m[\u001b[0m\u001b[0;36m0\u001b[0m\u001b[0;34m,\u001b[0m\u001b[0;36m1\u001b[0m\u001b[0;34m]\u001b[0m\u001b[0;34m=\u001b[0m\u001b[0;34m\"Kelam\"\u001b[0m\u001b[0;34m\u001b[0m\u001b[0;34m\u001b[0m\u001b[0m\n\u001b[0m",
            "\u001b[0;31mNameError\u001b[0m: name 'Mat' is not defined"
          ]
        }
      ]
    },
    {
      "cell_type": "code",
      "metadata": {
        "id": "2Yi44S27hdD9"
      },
      "source": [
        "Mat2=np.arange(0,10,1)"
      ],
      "execution_count": 14,
      "outputs": []
    },
    {
      "cell_type": "code",
      "metadata": {
        "colab": {
          "base_uri": "https://localhost:8080/"
        },
        "id": "Z0AuZTFGhkKb",
        "outputId": "8993d746-1bcd-4e76-8e45-c7f745c2f0d3"
      },
      "source": [
        "Mat2"
      ],
      "execution_count": 15,
      "outputs": [
        {
          "output_type": "execute_result",
          "data": {
            "text/plain": [
              "array([0, 1, 2, 3, 4, 5, 6, 7, 8, 9])"
            ]
          },
          "metadata": {
            "tags": []
          },
          "execution_count": 15
        }
      ]
    },
    {
      "cell_type": "code",
      "metadata": {
        "id": "r_fLUBI4hmIK"
      },
      "source": [
        "Mat3=np.linspace(0,10,20)"
      ],
      "execution_count": 16,
      "outputs": []
    },
    {
      "cell_type": "code",
      "metadata": {
        "colab": {
          "base_uri": "https://localhost:8080/"
        },
        "id": "G3igI0Hehss6",
        "outputId": "63fe3ab3-8d5b-4fdb-d8f1-216053a381f0"
      },
      "source": [
        "Mat3"
      ],
      "execution_count": 17,
      "outputs": [
        {
          "output_type": "execute_result",
          "data": {
            "text/plain": [
              "array([ 0.        ,  0.52631579,  1.05263158,  1.57894737,  2.10526316,\n",
              "        2.63157895,  3.15789474,  3.68421053,  4.21052632,  4.73684211,\n",
              "        5.26315789,  5.78947368,  6.31578947,  6.84210526,  7.36842105,\n",
              "        7.89473684,  8.42105263,  8.94736842,  9.47368421, 10.        ])"
            ]
          },
          "metadata": {
            "tags": []
          },
          "execution_count": 17
        }
      ]
    },
    {
      "cell_type": "code",
      "metadata": {
        "id": "rmhc6fCRhvUT"
      },
      "source": [
        "Mat4=np.random.rand(5,5)"
      ],
      "execution_count": 18,
      "outputs": []
    },
    {
      "cell_type": "code",
      "metadata": {
        "colab": {
          "base_uri": "https://localhost:8080/"
        },
        "id": "6jJuCxv3h2oZ",
        "outputId": "7cecb282-0de3-4398-8ed4-fba9b80d7e01"
      },
      "source": [
        "Mat4"
      ],
      "execution_count": 19,
      "outputs": [
        {
          "output_type": "execute_result",
          "data": {
            "text/plain": [
              "array([[0.97504716, 0.31595994, 0.58171459, 0.75665013, 0.84581017],\n",
              "       [0.99325488, 0.17882969, 0.45082617, 0.71333092, 0.24219682],\n",
              "       [0.01827397, 0.36153922, 0.13322556, 0.586594  , 0.89243727],\n",
              "       [0.39089485, 0.82246549, 0.26320012, 0.53843822, 0.4399048 ],\n",
              "       [0.20651907, 0.94855673, 0.29626333, 0.05029878, 0.02985097]])"
            ]
          },
          "metadata": {
            "tags": []
          },
          "execution_count": 19
        }
      ]
    },
    {
      "cell_type": "code",
      "metadata": {
        "id": "sh0jAKqmh4BT"
      },
      "source": [
        "Mat5=np.random.randn(5,5)"
      ],
      "execution_count": 20,
      "outputs": []
    },
    {
      "cell_type": "code",
      "metadata": {
        "colab": {
          "base_uri": "https://localhost:8080/"
        },
        "id": "ha6flnMEh-Gv",
        "outputId": "aa42dc47-3669-4c0f-dee1-c04fa67eba58"
      },
      "source": [
        "Mat5"
      ],
      "execution_count": 21,
      "outputs": [
        {
          "output_type": "execute_result",
          "data": {
            "text/plain": [
              "array([[ 0.33393563,  0.47560304,  1.54840999, -0.21073108,  0.27007467],\n",
              "       [ 1.86210197,  1.30485062, -0.81576646,  0.3236267 , -0.03540138],\n",
              "       [-0.17917058, -0.19831376, -1.76479069,  0.31006833, -0.60381292],\n",
              "       [-0.14859703,  0.42813859,  0.36057037, -0.96538087,  0.63237637],\n",
              "       [-0.81593132, -0.15327967, -0.58922377,  0.20165226,  0.81254031]])"
            ]
          },
          "metadata": {
            "tags": []
          },
          "execution_count": 21
        }
      ]
    },
    {
      "cell_type": "code",
      "metadata": {
        "colab": {
          "base_uri": "https://localhost:8080/"
        },
        "id": "S5MbMIjwiBuu",
        "outputId": "3ae57e27-90c0-4c0d-8e72-cf5a96295fd0"
      },
      "source": [
        "np.arange(9)"
      ],
      "execution_count": 30,
      "outputs": [
        {
          "output_type": "execute_result",
          "data": {
            "text/plain": [
              "array([0, 1, 2, 3, 4, 5, 6, 7, 8])"
            ]
          },
          "metadata": {
            "tags": []
          },
          "execution_count": 30
        }
      ]
    },
    {
      "cell_type": "code",
      "metadata": {
        "id": "kxAbE39jiuZI"
      },
      "source": [
        "x = np.arange(9).reshape((3,3))"
      ],
      "execution_count": 31,
      "outputs": []
    },
    {
      "cell_type": "code",
      "metadata": {
        "colab": {
          "base_uri": "https://localhost:8080/"
        },
        "id": "F-zK00wniRxY",
        "outputId": "6e8e29d2-1d4d-44e4-990d-859327bc0602"
      },
      "source": [
        "np.diag(x)"
      ],
      "execution_count": 32,
      "outputs": [
        {
          "output_type": "execute_result",
          "data": {
            "text/plain": [
              "array([0, 4, 8])"
            ]
          },
          "metadata": {
            "tags": []
          },
          "execution_count": 32
        }
      ]
    },
    {
      "cell_type": "code",
      "metadata": {
        "id": "G64phgwMiUs5"
      },
      "source": [
        "y=np.zeros(3)"
      ],
      "execution_count": 35,
      "outputs": []
    },
    {
      "cell_type": "code",
      "metadata": {
        "colab": {
          "base_uri": "https://localhost:8080/"
        },
        "id": "gk0jPNHIi-nY",
        "outputId": "1956e34d-beef-43de-cab7-3ffde6613834"
      },
      "source": [
        "y"
      ],
      "execution_count": 36,
      "outputs": [
        {
          "output_type": "execute_result",
          "data": {
            "text/plain": [
              "array([0., 0., 0.])"
            ]
          },
          "metadata": {
            "tags": []
          },
          "execution_count": 36
        }
      ]
    },
    {
      "cell_type": "code",
      "metadata": {
        "id": "fgzjhr7OjA0B"
      },
      "source": [
        "y=np.ones(10)"
      ],
      "execution_count": 38,
      "outputs": []
    },
    {
      "cell_type": "code",
      "metadata": {
        "colab": {
          "base_uri": "https://localhost:8080/"
        },
        "id": "HO_hZkQbjGeW",
        "outputId": "827b25f7-a1ac-4e36-dd84-789183d6824b"
      },
      "source": [
        "y"
      ],
      "execution_count": 39,
      "outputs": [
        {
          "output_type": "execute_result",
          "data": {
            "text/plain": [
              "array([1., 1., 1., 1., 1., 1., 1., 1., 1., 1.])"
            ]
          },
          "metadata": {
            "tags": []
          },
          "execution_count": 39
        }
      ]
    },
    {
      "cell_type": "code",
      "metadata": {
        "colab": {
          "base_uri": "https://localhost:8080/"
        },
        "id": "zTaBumkZjIRi",
        "outputId": "cf0af507-b094-4d7f-803f-b3d35cc65cdc"
      },
      "source": [
        "Mat5[0:3,:]"
      ],
      "execution_count": 40,
      "outputs": [
        {
          "output_type": "execute_result",
          "data": {
            "text/plain": [
              "array([[ 0.33393563,  0.47560304,  1.54840999, -0.21073108,  0.27007467],\n",
              "       [ 1.86210197,  1.30485062, -0.81576646,  0.3236267 , -0.03540138],\n",
              "       [-0.17917058, -0.19831376, -1.76479069,  0.31006833, -0.60381292]])"
            ]
          },
          "metadata": {
            "tags": []
          },
          "execution_count": 40
        }
      ]
    },
    {
      "cell_type": "markdown",
      "metadata": {
        "id": "1fJACLCYje6y"
      },
      "source": [
        "# 'Pandas' Package"
      ]
    },
    {
      "cell_type": "code",
      "metadata": {
        "id": "HFk79cB3jl04"
      },
      "source": [
        "import pandas as pd"
      ],
      "execution_count": 41,
      "outputs": []
    },
    {
      "cell_type": "code",
      "metadata": {
        "id": "hmdhmY7Ajsgx"
      },
      "source": [
        "url = 'https://drive.google.com/file/d/1WMJfDgdosEQaSMv4ftwaHNYqYBgz4Hcx/view?usp=sharing'\n",
        "path = 'https://drive.google.com/uc?export=download&id='+url.split('/')[-2]\n",
        "data1 = pd.read_csv(path)"
      ],
      "execution_count": 52,
      "outputs": []
    },
    {
      "cell_type": "code",
      "metadata": {
        "colab": {
          "base_uri": "https://localhost:8080/",
          "height": 1000
        },
        "id": "Mm-UENW8k7da",
        "outputId": "fa7cfccf-c34e-4a2b-b09f-2b95d1d1a7e9"
      },
      "source": [
        "data1.head(20)"
      ],
      "execution_count": 54,
      "outputs": [
        {
          "output_type": "execute_result",
          "data": {
            "text/html": [
              "<div>\n",
              "<style scoped>\n",
              "    .dataframe tbody tr th:only-of-type {\n",
              "        vertical-align: middle;\n",
              "    }\n",
              "\n",
              "    .dataframe tbody tr th {\n",
              "        vertical-align: top;\n",
              "    }\n",
              "\n",
              "    .dataframe thead th {\n",
              "        text-align: right;\n",
              "    }\n",
              "</style>\n",
              "<table border=\"1\" class=\"dataframe\">\n",
              "  <thead>\n",
              "    <tr style=\"text-align: right;\">\n",
              "      <th></th>\n",
              "      <th>Customer ID</th>\n",
              "      <th>Customer Name</th>\n",
              "      <th>Segment</th>\n",
              "      <th>Age</th>\n",
              "      <th>Country</th>\n",
              "      <th>City</th>\n",
              "      <th>State</th>\n",
              "      <th>Postal Code</th>\n",
              "      <th>Region</th>\n",
              "    </tr>\n",
              "  </thead>\n",
              "  <tbody>\n",
              "    <tr>\n",
              "      <th>0</th>\n",
              "      <td>CG-12520</td>\n",
              "      <td>Claire Gute</td>\n",
              "      <td>Consumer</td>\n",
              "      <td>67</td>\n",
              "      <td>United States</td>\n",
              "      <td>Henderson</td>\n",
              "      <td>Kentucky</td>\n",
              "      <td>42420</td>\n",
              "      <td>South</td>\n",
              "    </tr>\n",
              "    <tr>\n",
              "      <th>1</th>\n",
              "      <td>DV-13045</td>\n",
              "      <td>Darrin Van Huff</td>\n",
              "      <td>Corporate</td>\n",
              "      <td>31</td>\n",
              "      <td>United States</td>\n",
              "      <td>Los Angeles</td>\n",
              "      <td>California</td>\n",
              "      <td>90036</td>\n",
              "      <td>West</td>\n",
              "    </tr>\n",
              "    <tr>\n",
              "      <th>2</th>\n",
              "      <td>SO-20335</td>\n",
              "      <td>Sean O'Donnell</td>\n",
              "      <td>Consumer</td>\n",
              "      <td>65</td>\n",
              "      <td>United States</td>\n",
              "      <td>Fort Lauderdale</td>\n",
              "      <td>Florida</td>\n",
              "      <td>33311</td>\n",
              "      <td>South</td>\n",
              "    </tr>\n",
              "    <tr>\n",
              "      <th>3</th>\n",
              "      <td>BH-11710</td>\n",
              "      <td>Brosina Hoffman</td>\n",
              "      <td>Consumer</td>\n",
              "      <td>20</td>\n",
              "      <td>United States</td>\n",
              "      <td>Los Angeles</td>\n",
              "      <td>California</td>\n",
              "      <td>90032</td>\n",
              "      <td>West</td>\n",
              "    </tr>\n",
              "    <tr>\n",
              "      <th>4</th>\n",
              "      <td>AA-10480</td>\n",
              "      <td>Andrew Allen</td>\n",
              "      <td>Consumer</td>\n",
              "      <td>50</td>\n",
              "      <td>United States</td>\n",
              "      <td>Concord</td>\n",
              "      <td>North Carolina</td>\n",
              "      <td>28027</td>\n",
              "      <td>South</td>\n",
              "    </tr>\n",
              "    <tr>\n",
              "      <th>5</th>\n",
              "      <td>IM-15070</td>\n",
              "      <td>Irene Maddox</td>\n",
              "      <td>Consumer</td>\n",
              "      <td>66</td>\n",
              "      <td>United States</td>\n",
              "      <td>Seattle</td>\n",
              "      <td>Washington</td>\n",
              "      <td>98103</td>\n",
              "      <td>West</td>\n",
              "    </tr>\n",
              "    <tr>\n",
              "      <th>6</th>\n",
              "      <td>HP-14815</td>\n",
              "      <td>Harold Pawlan</td>\n",
              "      <td>Home Office</td>\n",
              "      <td>20</td>\n",
              "      <td>United States</td>\n",
              "      <td>Fort Worth</td>\n",
              "      <td>Texas</td>\n",
              "      <td>76106</td>\n",
              "      <td>Central</td>\n",
              "    </tr>\n",
              "    <tr>\n",
              "      <th>7</th>\n",
              "      <td>PK-19075</td>\n",
              "      <td>Pete Kriz</td>\n",
              "      <td>Consumer</td>\n",
              "      <td>46</td>\n",
              "      <td>United States</td>\n",
              "      <td>Madison</td>\n",
              "      <td>Wisconsin</td>\n",
              "      <td>53711</td>\n",
              "      <td>Central</td>\n",
              "    </tr>\n",
              "    <tr>\n",
              "      <th>8</th>\n",
              "      <td>AG-10270</td>\n",
              "      <td>Alejandro Grove</td>\n",
              "      <td>Consumer</td>\n",
              "      <td>18</td>\n",
              "      <td>United States</td>\n",
              "      <td>West Jordan</td>\n",
              "      <td>Utah</td>\n",
              "      <td>84084</td>\n",
              "      <td>West</td>\n",
              "    </tr>\n",
              "    <tr>\n",
              "      <th>9</th>\n",
              "      <td>ZD-21925</td>\n",
              "      <td>Zuschuss Donatelli</td>\n",
              "      <td>Consumer</td>\n",
              "      <td>66</td>\n",
              "      <td>United States</td>\n",
              "      <td>San Francisco</td>\n",
              "      <td>California</td>\n",
              "      <td>94109</td>\n",
              "      <td>West</td>\n",
              "    </tr>\n",
              "    <tr>\n",
              "      <th>10</th>\n",
              "      <td>KB-16585</td>\n",
              "      <td>Ken Black</td>\n",
              "      <td>Corporate</td>\n",
              "      <td>67</td>\n",
              "      <td>United States</td>\n",
              "      <td>Fremont</td>\n",
              "      <td>Nebraska</td>\n",
              "      <td>68025</td>\n",
              "      <td>Central</td>\n",
              "    </tr>\n",
              "    <tr>\n",
              "      <th>11</th>\n",
              "      <td>SF-20065</td>\n",
              "      <td>Sandra Flanagan</td>\n",
              "      <td>Consumer</td>\n",
              "      <td>41</td>\n",
              "      <td>United States</td>\n",
              "      <td>Philadelphia</td>\n",
              "      <td>Pennsylvania</td>\n",
              "      <td>19140</td>\n",
              "      <td>East</td>\n",
              "    </tr>\n",
              "    <tr>\n",
              "      <th>12</th>\n",
              "      <td>EB-13870</td>\n",
              "      <td>Emily Burns</td>\n",
              "      <td>Consumer</td>\n",
              "      <td>34</td>\n",
              "      <td>United States</td>\n",
              "      <td>Orem</td>\n",
              "      <td>Utah</td>\n",
              "      <td>84057</td>\n",
              "      <td>West</td>\n",
              "    </tr>\n",
              "    <tr>\n",
              "      <th>13</th>\n",
              "      <td>EH-13945</td>\n",
              "      <td>Eric Hoffmann</td>\n",
              "      <td>Consumer</td>\n",
              "      <td>21</td>\n",
              "      <td>United States</td>\n",
              "      <td>Los Angeles</td>\n",
              "      <td>California</td>\n",
              "      <td>90049</td>\n",
              "      <td>West</td>\n",
              "    </tr>\n",
              "    <tr>\n",
              "      <th>14</th>\n",
              "      <td>TB-21520</td>\n",
              "      <td>Tracy Blumstein</td>\n",
              "      <td>Consumer</td>\n",
              "      <td>48</td>\n",
              "      <td>United States</td>\n",
              "      <td>Philadelphia</td>\n",
              "      <td>Pennsylvania</td>\n",
              "      <td>19140</td>\n",
              "      <td>East</td>\n",
              "    </tr>\n",
              "    <tr>\n",
              "      <th>15</th>\n",
              "      <td>MA-17560</td>\n",
              "      <td>Matt Abelman</td>\n",
              "      <td>Home Office</td>\n",
              "      <td>19</td>\n",
              "      <td>United States</td>\n",
              "      <td>Houston</td>\n",
              "      <td>Texas</td>\n",
              "      <td>77095</td>\n",
              "      <td>Central</td>\n",
              "    </tr>\n",
              "    <tr>\n",
              "      <th>16</th>\n",
              "      <td>GH-14485</td>\n",
              "      <td>Gene Hale</td>\n",
              "      <td>Corporate</td>\n",
              "      <td>28</td>\n",
              "      <td>United States</td>\n",
              "      <td>Richardson</td>\n",
              "      <td>Texas</td>\n",
              "      <td>75080</td>\n",
              "      <td>Central</td>\n",
              "    </tr>\n",
              "    <tr>\n",
              "      <th>17</th>\n",
              "      <td>SN-20710</td>\n",
              "      <td>Steve Nguyen</td>\n",
              "      <td>Home Office</td>\n",
              "      <td>46</td>\n",
              "      <td>United States</td>\n",
              "      <td>Houston</td>\n",
              "      <td>Texas</td>\n",
              "      <td>77041</td>\n",
              "      <td>Central</td>\n",
              "    </tr>\n",
              "    <tr>\n",
              "      <th>18</th>\n",
              "      <td>LC-16930</td>\n",
              "      <td>Linda Cazamias</td>\n",
              "      <td>Corporate</td>\n",
              "      <td>31</td>\n",
              "      <td>United States</td>\n",
              "      <td>Naperville</td>\n",
              "      <td>Illinois</td>\n",
              "      <td>60540</td>\n",
              "      <td>Central</td>\n",
              "    </tr>\n",
              "    <tr>\n",
              "      <th>19</th>\n",
              "      <td>RA-19885</td>\n",
              "      <td>Ruben Ausman</td>\n",
              "      <td>Corporate</td>\n",
              "      <td>51</td>\n",
              "      <td>United States</td>\n",
              "      <td>Los Angeles</td>\n",
              "      <td>California</td>\n",
              "      <td>90049</td>\n",
              "      <td>West</td>\n",
              "    </tr>\n",
              "  </tbody>\n",
              "</table>\n",
              "</div>"
            ],
            "text/plain": [
              "   Customer ID       Customer Name  ... Postal Code   Region\n",
              "0     CG-12520         Claire Gute  ...       42420    South\n",
              "1     DV-13045     Darrin Van Huff  ...       90036     West\n",
              "2     SO-20335      Sean O'Donnell  ...       33311    South\n",
              "3     BH-11710     Brosina Hoffman  ...       90032     West\n",
              "4     AA-10480        Andrew Allen  ...       28027    South\n",
              "5     IM-15070        Irene Maddox  ...       98103     West\n",
              "6     HP-14815       Harold Pawlan  ...       76106  Central\n",
              "7     PK-19075           Pete Kriz  ...       53711  Central\n",
              "8     AG-10270     Alejandro Grove  ...       84084     West\n",
              "9     ZD-21925  Zuschuss Donatelli  ...       94109     West\n",
              "10    KB-16585           Ken Black  ...       68025  Central\n",
              "11    SF-20065     Sandra Flanagan  ...       19140     East\n",
              "12    EB-13870         Emily Burns  ...       84057     West\n",
              "13    EH-13945       Eric Hoffmann  ...       90049     West\n",
              "14    TB-21520     Tracy Blumstein  ...       19140     East\n",
              "15    MA-17560        Matt Abelman  ...       77095  Central\n",
              "16    GH-14485           Gene Hale  ...       75080  Central\n",
              "17    SN-20710        Steve Nguyen  ...       77041  Central\n",
              "18    LC-16930      Linda Cazamias  ...       60540  Central\n",
              "19    RA-19885        Ruben Ausman  ...       90049     West\n",
              "\n",
              "[20 rows x 9 columns]"
            ]
          },
          "metadata": {
            "tags": []
          },
          "execution_count": 54
        }
      ]
    },
    {
      "cell_type": "code",
      "metadata": {
        "id": "Js78unmPnb1n"
      },
      "source": [
        "url = 'https://drive.google.com/file/d/1WMJfDgdosEQaSMv4ftwaHNYqYBgz4Hcx/view?usp=sharing'\n",
        "path = 'https://drive.google.com/uc?export=download&id='+url.split('/')[-2]\n",
        "data2 = pd.read_csv(path)"
      ],
      "execution_count": 55,
      "outputs": []
    },
    {
      "cell_type": "code",
      "metadata": {
        "id": "4kJ0JLpcnoS9"
      },
      "source": [
        "data2=pd.read_csv(path,header=0,index_col=0)"
      ],
      "execution_count": 56,
      "outputs": []
    },
    {
      "cell_type": "code",
      "metadata": {
        "colab": {
          "base_uri": "https://localhost:8080/",
          "height": 654
        },
        "id": "F3EYcvGHn0qi",
        "outputId": "3f3e502d-a09f-4e5d-82b8-a483daa72848"
      },
      "source": [
        "data2"
      ],
      "execution_count": 57,
      "outputs": [
        {
          "output_type": "execute_result",
          "data": {
            "text/html": [
              "<div>\n",
              "<style scoped>\n",
              "    .dataframe tbody tr th:only-of-type {\n",
              "        vertical-align: middle;\n",
              "    }\n",
              "\n",
              "    .dataframe tbody tr th {\n",
              "        vertical-align: top;\n",
              "    }\n",
              "\n",
              "    .dataframe thead th {\n",
              "        text-align: right;\n",
              "    }\n",
              "</style>\n",
              "<table border=\"1\" class=\"dataframe\">\n",
              "  <thead>\n",
              "    <tr style=\"text-align: right;\">\n",
              "      <th></th>\n",
              "      <th>Customer Name</th>\n",
              "      <th>Segment</th>\n",
              "      <th>Age</th>\n",
              "      <th>Country</th>\n",
              "      <th>City</th>\n",
              "      <th>State</th>\n",
              "      <th>Postal Code</th>\n",
              "      <th>Region</th>\n",
              "    </tr>\n",
              "    <tr>\n",
              "      <th>Customer ID</th>\n",
              "      <th></th>\n",
              "      <th></th>\n",
              "      <th></th>\n",
              "      <th></th>\n",
              "      <th></th>\n",
              "      <th></th>\n",
              "      <th></th>\n",
              "      <th></th>\n",
              "    </tr>\n",
              "  </thead>\n",
              "  <tbody>\n",
              "    <tr>\n",
              "      <th>CG-12520</th>\n",
              "      <td>Claire Gute</td>\n",
              "      <td>Consumer</td>\n",
              "      <td>67</td>\n",
              "      <td>United States</td>\n",
              "      <td>Henderson</td>\n",
              "      <td>Kentucky</td>\n",
              "      <td>42420</td>\n",
              "      <td>South</td>\n",
              "    </tr>\n",
              "    <tr>\n",
              "      <th>DV-13045</th>\n",
              "      <td>Darrin Van Huff</td>\n",
              "      <td>Corporate</td>\n",
              "      <td>31</td>\n",
              "      <td>United States</td>\n",
              "      <td>Los Angeles</td>\n",
              "      <td>California</td>\n",
              "      <td>90036</td>\n",
              "      <td>West</td>\n",
              "    </tr>\n",
              "    <tr>\n",
              "      <th>SO-20335</th>\n",
              "      <td>Sean O'Donnell</td>\n",
              "      <td>Consumer</td>\n",
              "      <td>65</td>\n",
              "      <td>United States</td>\n",
              "      <td>Fort Lauderdale</td>\n",
              "      <td>Florida</td>\n",
              "      <td>33311</td>\n",
              "      <td>South</td>\n",
              "    </tr>\n",
              "    <tr>\n",
              "      <th>BH-11710</th>\n",
              "      <td>Brosina Hoffman</td>\n",
              "      <td>Consumer</td>\n",
              "      <td>20</td>\n",
              "      <td>United States</td>\n",
              "      <td>Los Angeles</td>\n",
              "      <td>California</td>\n",
              "      <td>90032</td>\n",
              "      <td>West</td>\n",
              "    </tr>\n",
              "    <tr>\n",
              "      <th>AA-10480</th>\n",
              "      <td>Andrew Allen</td>\n",
              "      <td>Consumer</td>\n",
              "      <td>50</td>\n",
              "      <td>United States</td>\n",
              "      <td>Concord</td>\n",
              "      <td>North Carolina</td>\n",
              "      <td>28027</td>\n",
              "      <td>South</td>\n",
              "    </tr>\n",
              "    <tr>\n",
              "      <th>...</th>\n",
              "      <td>...</td>\n",
              "      <td>...</td>\n",
              "      <td>...</td>\n",
              "      <td>...</td>\n",
              "      <td>...</td>\n",
              "      <td>...</td>\n",
              "      <td>...</td>\n",
              "      <td>...</td>\n",
              "    </tr>\n",
              "    <tr>\n",
              "      <th>CJ-11875</th>\n",
              "      <td>Carl Jackson</td>\n",
              "      <td>Corporate</td>\n",
              "      <td>64</td>\n",
              "      <td>United States</td>\n",
              "      <td>Philadelphia</td>\n",
              "      <td>Pennsylvania</td>\n",
              "      <td>19140</td>\n",
              "      <td>East</td>\n",
              "    </tr>\n",
              "    <tr>\n",
              "      <th>RS-19870</th>\n",
              "      <td>Roy Skaria</td>\n",
              "      <td>Home Office</td>\n",
              "      <td>39</td>\n",
              "      <td>United States</td>\n",
              "      <td>Burlington</td>\n",
              "      <td>Iowa</td>\n",
              "      <td>52601</td>\n",
              "      <td>Central</td>\n",
              "    </tr>\n",
              "    <tr>\n",
              "      <th>SC-20845</th>\n",
              "      <td>Sung Chung</td>\n",
              "      <td>Consumer</td>\n",
              "      <td>69</td>\n",
              "      <td>United States</td>\n",
              "      <td>Arlington Heights</td>\n",
              "      <td>Illinois</td>\n",
              "      <td>60004</td>\n",
              "      <td>Central</td>\n",
              "    </tr>\n",
              "    <tr>\n",
              "      <th>RE-19405</th>\n",
              "      <td>Ricardo Emerson</td>\n",
              "      <td>Consumer</td>\n",
              "      <td>35</td>\n",
              "      <td>United States</td>\n",
              "      <td>Kent</td>\n",
              "      <td>Ohio</td>\n",
              "      <td>44240</td>\n",
              "      <td>East</td>\n",
              "    </tr>\n",
              "    <tr>\n",
              "      <th>SM-20905</th>\n",
              "      <td>Susan MacKendrick</td>\n",
              "      <td>Consumer</td>\n",
              "      <td>46</td>\n",
              "      <td>United States</td>\n",
              "      <td>Newark</td>\n",
              "      <td>Ohio</td>\n",
              "      <td>43055</td>\n",
              "      <td>East</td>\n",
              "    </tr>\n",
              "  </tbody>\n",
              "</table>\n",
              "<p>793 rows × 8 columns</p>\n",
              "</div>"
            ],
            "text/plain": [
              "                 Customer Name      Segment  ...  Postal Code   Region\n",
              "Customer ID                                  ...                      \n",
              "CG-12520           Claire Gute     Consumer  ...        42420    South\n",
              "DV-13045       Darrin Van Huff    Corporate  ...        90036     West\n",
              "SO-20335        Sean O'Donnell     Consumer  ...        33311    South\n",
              "BH-11710       Brosina Hoffman     Consumer  ...        90032     West\n",
              "AA-10480          Andrew Allen     Consumer  ...        28027    South\n",
              "...                        ...          ...  ...          ...      ...\n",
              "CJ-11875          Carl Jackson    Corporate  ...        19140     East\n",
              "RS-19870            Roy Skaria  Home Office  ...        52601  Central\n",
              "SC-20845            Sung Chung     Consumer  ...        60004  Central\n",
              "RE-19405       Ricardo Emerson     Consumer  ...        44240     East\n",
              "SM-20905     Susan MacKendrick     Consumer  ...        43055     East\n",
              "\n",
              "[793 rows x 8 columns]"
            ]
          },
          "metadata": {
            "tags": []
          },
          "execution_count": 57
        }
      ]
    },
    {
      "cell_type": "code",
      "metadata": {
        "colab": {
          "base_uri": "https://localhost:8080/",
          "height": 235
        },
        "id": "X36c54gUn6Dz",
        "outputId": "2df9955b-7b8e-4132-f941-456a939bfcf7"
      },
      "source": [
        "data2.head()"
      ],
      "execution_count": 58,
      "outputs": [
        {
          "output_type": "execute_result",
          "data": {
            "text/html": [
              "<div>\n",
              "<style scoped>\n",
              "    .dataframe tbody tr th:only-of-type {\n",
              "        vertical-align: middle;\n",
              "    }\n",
              "\n",
              "    .dataframe tbody tr th {\n",
              "        vertical-align: top;\n",
              "    }\n",
              "\n",
              "    .dataframe thead th {\n",
              "        text-align: right;\n",
              "    }\n",
              "</style>\n",
              "<table border=\"1\" class=\"dataframe\">\n",
              "  <thead>\n",
              "    <tr style=\"text-align: right;\">\n",
              "      <th></th>\n",
              "      <th>Customer Name</th>\n",
              "      <th>Segment</th>\n",
              "      <th>Age</th>\n",
              "      <th>Country</th>\n",
              "      <th>City</th>\n",
              "      <th>State</th>\n",
              "      <th>Postal Code</th>\n",
              "      <th>Region</th>\n",
              "    </tr>\n",
              "    <tr>\n",
              "      <th>Customer ID</th>\n",
              "      <th></th>\n",
              "      <th></th>\n",
              "      <th></th>\n",
              "      <th></th>\n",
              "      <th></th>\n",
              "      <th></th>\n",
              "      <th></th>\n",
              "      <th></th>\n",
              "    </tr>\n",
              "  </thead>\n",
              "  <tbody>\n",
              "    <tr>\n",
              "      <th>CG-12520</th>\n",
              "      <td>Claire Gute</td>\n",
              "      <td>Consumer</td>\n",
              "      <td>67</td>\n",
              "      <td>United States</td>\n",
              "      <td>Henderson</td>\n",
              "      <td>Kentucky</td>\n",
              "      <td>42420</td>\n",
              "      <td>South</td>\n",
              "    </tr>\n",
              "    <tr>\n",
              "      <th>DV-13045</th>\n",
              "      <td>Darrin Van Huff</td>\n",
              "      <td>Corporate</td>\n",
              "      <td>31</td>\n",
              "      <td>United States</td>\n",
              "      <td>Los Angeles</td>\n",
              "      <td>California</td>\n",
              "      <td>90036</td>\n",
              "      <td>West</td>\n",
              "    </tr>\n",
              "    <tr>\n",
              "      <th>SO-20335</th>\n",
              "      <td>Sean O'Donnell</td>\n",
              "      <td>Consumer</td>\n",
              "      <td>65</td>\n",
              "      <td>United States</td>\n",
              "      <td>Fort Lauderdale</td>\n",
              "      <td>Florida</td>\n",
              "      <td>33311</td>\n",
              "      <td>South</td>\n",
              "    </tr>\n",
              "    <tr>\n",
              "      <th>BH-11710</th>\n",
              "      <td>Brosina Hoffman</td>\n",
              "      <td>Consumer</td>\n",
              "      <td>20</td>\n",
              "      <td>United States</td>\n",
              "      <td>Los Angeles</td>\n",
              "      <td>California</td>\n",
              "      <td>90032</td>\n",
              "      <td>West</td>\n",
              "    </tr>\n",
              "    <tr>\n",
              "      <th>AA-10480</th>\n",
              "      <td>Andrew Allen</td>\n",
              "      <td>Consumer</td>\n",
              "      <td>50</td>\n",
              "      <td>United States</td>\n",
              "      <td>Concord</td>\n",
              "      <td>North Carolina</td>\n",
              "      <td>28027</td>\n",
              "      <td>South</td>\n",
              "    </tr>\n",
              "  </tbody>\n",
              "</table>\n",
              "</div>"
            ],
            "text/plain": [
              "               Customer Name    Segment  ...  Postal Code Region\n",
              "Customer ID                              ...                    \n",
              "CG-12520         Claire Gute   Consumer  ...        42420  South\n",
              "DV-13045     Darrin Van Huff  Corporate  ...        90036   West\n",
              "SO-20335      Sean O'Donnell   Consumer  ...        33311  South\n",
              "BH-11710     Brosina Hoffman   Consumer  ...        90032   West\n",
              "AA-10480        Andrew Allen   Consumer  ...        28027  South\n",
              "\n",
              "[5 rows x 8 columns]"
            ]
          },
          "metadata": {
            "tags": []
          },
          "execution_count": 58
        }
      ]
    },
    {
      "cell_type": "code",
      "metadata": {
        "colab": {
          "base_uri": "https://localhost:8080/",
          "height": 297
        },
        "id": "npfM5pXSn-aT",
        "outputId": "511ab5fd-82b0-441a-94cc-edc4953e51f7"
      },
      "source": [
        "data1.describe()"
      ],
      "execution_count": 59,
      "outputs": [
        {
          "output_type": "execute_result",
          "data": {
            "text/html": [
              "<div>\n",
              "<style scoped>\n",
              "    .dataframe tbody tr th:only-of-type {\n",
              "        vertical-align: middle;\n",
              "    }\n",
              "\n",
              "    .dataframe tbody tr th {\n",
              "        vertical-align: top;\n",
              "    }\n",
              "\n",
              "    .dataframe thead th {\n",
              "        text-align: right;\n",
              "    }\n",
              "</style>\n",
              "<table border=\"1\" class=\"dataframe\">\n",
              "  <thead>\n",
              "    <tr style=\"text-align: right;\">\n",
              "      <th></th>\n",
              "      <th>Age</th>\n",
              "      <th>Postal Code</th>\n",
              "    </tr>\n",
              "  </thead>\n",
              "  <tbody>\n",
              "    <tr>\n",
              "      <th>count</th>\n",
              "      <td>793.000000</td>\n",
              "      <td>793.000000</td>\n",
              "    </tr>\n",
              "    <tr>\n",
              "      <th>mean</th>\n",
              "      <td>44.467844</td>\n",
              "      <td>55229.717528</td>\n",
              "    </tr>\n",
              "    <tr>\n",
              "      <th>std</th>\n",
              "      <td>15.526673</td>\n",
              "      <td>31679.223816</td>\n",
              "    </tr>\n",
              "    <tr>\n",
              "      <th>min</th>\n",
              "      <td>18.000000</td>\n",
              "      <td>1841.000000</td>\n",
              "    </tr>\n",
              "    <tr>\n",
              "      <th>25%</th>\n",
              "      <td>31.000000</td>\n",
              "      <td>27217.000000</td>\n",
              "    </tr>\n",
              "    <tr>\n",
              "      <th>50%</th>\n",
              "      <td>45.000000</td>\n",
              "      <td>55901.000000</td>\n",
              "    </tr>\n",
              "    <tr>\n",
              "      <th>75%</th>\n",
              "      <td>58.000000</td>\n",
              "      <td>90004.000000</td>\n",
              "    </tr>\n",
              "    <tr>\n",
              "      <th>max</th>\n",
              "      <td>70.000000</td>\n",
              "      <td>99207.000000</td>\n",
              "    </tr>\n",
              "  </tbody>\n",
              "</table>\n",
              "</div>"
            ],
            "text/plain": [
              "              Age   Postal Code\n",
              "count  793.000000    793.000000\n",
              "mean    44.467844  55229.717528\n",
              "std     15.526673  31679.223816\n",
              "min     18.000000   1841.000000\n",
              "25%     31.000000  27217.000000\n",
              "50%     45.000000  55901.000000\n",
              "75%     58.000000  90004.000000\n",
              "max     70.000000  99207.000000"
            ]
          },
          "metadata": {
            "tags": []
          },
          "execution_count": 59
        }
      ]
    },
    {
      "cell_type": "code",
      "metadata": {
        "colab": {
          "base_uri": "https://localhost:8080/"
        },
        "id": "cpb4ihSUoB8Y",
        "outputId": "af847f0a-2f25-48b1-92fd-c6892e4ba075"
      },
      "source": [
        "data1.iloc[0]"
      ],
      "execution_count": 60,
      "outputs": [
        {
          "output_type": "execute_result",
          "data": {
            "text/plain": [
              "Customer ID           CG-12520\n",
              "Customer Name      Claire Gute\n",
              "Segment               Consumer\n",
              "Age                         67\n",
              "Country          United States\n",
              "City                 Henderson\n",
              "State                 Kentucky\n",
              "Postal Code              42420\n",
              "Region                   South\n",
              "Name: 0, dtype: object"
            ]
          },
          "metadata": {
            "tags": []
          },
          "execution_count": 60
        }
      ]
    },
    {
      "cell_type": "code",
      "metadata": {
        "colab": {
          "base_uri": "https://localhost:8080/"
        },
        "id": "U6pHK9DaoSgV",
        "outputId": "f835ad30-3c52-414d-e5b1-a8c864f4c449"
      },
      "source": [
        "data2.loc[\"CG-12520\"]"
      ],
      "execution_count": 62,
      "outputs": [
        {
          "output_type": "execute_result",
          "data": {
            "text/plain": [
              "Customer Name      Claire Gute\n",
              "Segment               Consumer\n",
              "Age                         67\n",
              "Country          United States\n",
              "City                 Henderson\n",
              "State                 Kentucky\n",
              "Postal Code              42420\n",
              "Region                   South\n",
              "Name: CG-12520, dtype: object"
            ]
          },
          "metadata": {
            "tags": []
          },
          "execution_count": 62
        }
      ]
    },
    {
      "cell_type": "code",
      "metadata": {
        "colab": {
          "base_uri": "https://localhost:8080/"
        },
        "id": "7u5TN-JkobjU",
        "outputId": "d5138724-eaba-4e46-e3b6-bd7f56e1389a"
      },
      "source": [
        "data2.iloc[0]"
      ],
      "execution_count": 63,
      "outputs": [
        {
          "output_type": "execute_result",
          "data": {
            "text/plain": [
              "Customer Name      Claire Gute\n",
              "Segment               Consumer\n",
              "Age                         67\n",
              "Country          United States\n",
              "City                 Henderson\n",
              "State                 Kentucky\n",
              "Postal Code              42420\n",
              "Region                   South\n",
              "Name: CG-12520, dtype: object"
            ]
          },
          "metadata": {
            "tags": []
          },
          "execution_count": 63
        }
      ]
    },
    {
      "cell_type": "code",
      "metadata": {
        "colab": {
          "base_uri": "https://localhost:8080/",
          "height": 235
        },
        "id": "nb3bsQSMohEq",
        "outputId": "55c053c8-88c4-4a28-d45b-c272de5cd91f"
      },
      "source": [
        "data2.iloc[0:5]"
      ],
      "execution_count": 64,
      "outputs": [
        {
          "output_type": "execute_result",
          "data": {
            "text/html": [
              "<div>\n",
              "<style scoped>\n",
              "    .dataframe tbody tr th:only-of-type {\n",
              "        vertical-align: middle;\n",
              "    }\n",
              "\n",
              "    .dataframe tbody tr th {\n",
              "        vertical-align: top;\n",
              "    }\n",
              "\n",
              "    .dataframe thead th {\n",
              "        text-align: right;\n",
              "    }\n",
              "</style>\n",
              "<table border=\"1\" class=\"dataframe\">\n",
              "  <thead>\n",
              "    <tr style=\"text-align: right;\">\n",
              "      <th></th>\n",
              "      <th>Customer Name</th>\n",
              "      <th>Segment</th>\n",
              "      <th>Age</th>\n",
              "      <th>Country</th>\n",
              "      <th>City</th>\n",
              "      <th>State</th>\n",
              "      <th>Postal Code</th>\n",
              "      <th>Region</th>\n",
              "    </tr>\n",
              "    <tr>\n",
              "      <th>Customer ID</th>\n",
              "      <th></th>\n",
              "      <th></th>\n",
              "      <th></th>\n",
              "      <th></th>\n",
              "      <th></th>\n",
              "      <th></th>\n",
              "      <th></th>\n",
              "      <th></th>\n",
              "    </tr>\n",
              "  </thead>\n",
              "  <tbody>\n",
              "    <tr>\n",
              "      <th>CG-12520</th>\n",
              "      <td>Claire Gute</td>\n",
              "      <td>Consumer</td>\n",
              "      <td>67</td>\n",
              "      <td>United States</td>\n",
              "      <td>Henderson</td>\n",
              "      <td>Kentucky</td>\n",
              "      <td>42420</td>\n",
              "      <td>South</td>\n",
              "    </tr>\n",
              "    <tr>\n",
              "      <th>DV-13045</th>\n",
              "      <td>Darrin Van Huff</td>\n",
              "      <td>Corporate</td>\n",
              "      <td>31</td>\n",
              "      <td>United States</td>\n",
              "      <td>Los Angeles</td>\n",
              "      <td>California</td>\n",
              "      <td>90036</td>\n",
              "      <td>West</td>\n",
              "    </tr>\n",
              "    <tr>\n",
              "      <th>SO-20335</th>\n",
              "      <td>Sean O'Donnell</td>\n",
              "      <td>Consumer</td>\n",
              "      <td>65</td>\n",
              "      <td>United States</td>\n",
              "      <td>Fort Lauderdale</td>\n",
              "      <td>Florida</td>\n",
              "      <td>33311</td>\n",
              "      <td>South</td>\n",
              "    </tr>\n",
              "    <tr>\n",
              "      <th>BH-11710</th>\n",
              "      <td>Brosina Hoffman</td>\n",
              "      <td>Consumer</td>\n",
              "      <td>20</td>\n",
              "      <td>United States</td>\n",
              "      <td>Los Angeles</td>\n",
              "      <td>California</td>\n",
              "      <td>90032</td>\n",
              "      <td>West</td>\n",
              "    </tr>\n",
              "    <tr>\n",
              "      <th>AA-10480</th>\n",
              "      <td>Andrew Allen</td>\n",
              "      <td>Consumer</td>\n",
              "      <td>50</td>\n",
              "      <td>United States</td>\n",
              "      <td>Concord</td>\n",
              "      <td>North Carolina</td>\n",
              "      <td>28027</td>\n",
              "      <td>South</td>\n",
              "    </tr>\n",
              "  </tbody>\n",
              "</table>\n",
              "</div>"
            ],
            "text/plain": [
              "               Customer Name    Segment  ...  Postal Code Region\n",
              "Customer ID                              ...                    \n",
              "CG-12520         Claire Gute   Consumer  ...        42420  South\n",
              "DV-13045     Darrin Van Huff  Corporate  ...        90036   West\n",
              "SO-20335      Sean O'Donnell   Consumer  ...        33311  South\n",
              "BH-11710     Brosina Hoffman   Consumer  ...        90032   West\n",
              "AA-10480        Andrew Allen   Consumer  ...        28027  South\n",
              "\n",
              "[5 rows x 8 columns]"
            ]
          },
          "metadata": {
            "tags": []
          },
          "execution_count": 64
        }
      ]
    },
    {
      "cell_type": "code",
      "metadata": {
        "colab": {
          "base_uri": "https://localhost:8080/",
          "height": 173
        },
        "id": "n2ZuhqTEosLg",
        "outputId": "2f479f7f-4bac-4108-f44a-8442a39a0d30"
      },
      "source": [
        "data2.iloc[0:5:2]"
      ],
      "execution_count": 65,
      "outputs": [
        {
          "output_type": "execute_result",
          "data": {
            "text/html": [
              "<div>\n",
              "<style scoped>\n",
              "    .dataframe tbody tr th:only-of-type {\n",
              "        vertical-align: middle;\n",
              "    }\n",
              "\n",
              "    .dataframe tbody tr th {\n",
              "        vertical-align: top;\n",
              "    }\n",
              "\n",
              "    .dataframe thead th {\n",
              "        text-align: right;\n",
              "    }\n",
              "</style>\n",
              "<table border=\"1\" class=\"dataframe\">\n",
              "  <thead>\n",
              "    <tr style=\"text-align: right;\">\n",
              "      <th></th>\n",
              "      <th>Customer Name</th>\n",
              "      <th>Segment</th>\n",
              "      <th>Age</th>\n",
              "      <th>Country</th>\n",
              "      <th>City</th>\n",
              "      <th>State</th>\n",
              "      <th>Postal Code</th>\n",
              "      <th>Region</th>\n",
              "    </tr>\n",
              "    <tr>\n",
              "      <th>Customer ID</th>\n",
              "      <th></th>\n",
              "      <th></th>\n",
              "      <th></th>\n",
              "      <th></th>\n",
              "      <th></th>\n",
              "      <th></th>\n",
              "      <th></th>\n",
              "      <th></th>\n",
              "    </tr>\n",
              "  </thead>\n",
              "  <tbody>\n",
              "    <tr>\n",
              "      <th>CG-12520</th>\n",
              "      <td>Claire Gute</td>\n",
              "      <td>Consumer</td>\n",
              "      <td>67</td>\n",
              "      <td>United States</td>\n",
              "      <td>Henderson</td>\n",
              "      <td>Kentucky</td>\n",
              "      <td>42420</td>\n",
              "      <td>South</td>\n",
              "    </tr>\n",
              "    <tr>\n",
              "      <th>SO-20335</th>\n",
              "      <td>Sean O'Donnell</td>\n",
              "      <td>Consumer</td>\n",
              "      <td>65</td>\n",
              "      <td>United States</td>\n",
              "      <td>Fort Lauderdale</td>\n",
              "      <td>Florida</td>\n",
              "      <td>33311</td>\n",
              "      <td>South</td>\n",
              "    </tr>\n",
              "    <tr>\n",
              "      <th>AA-10480</th>\n",
              "      <td>Andrew Allen</td>\n",
              "      <td>Consumer</td>\n",
              "      <td>50</td>\n",
              "      <td>United States</td>\n",
              "      <td>Concord</td>\n",
              "      <td>North Carolina</td>\n",
              "      <td>28027</td>\n",
              "      <td>South</td>\n",
              "    </tr>\n",
              "  </tbody>\n",
              "</table>\n",
              "</div>"
            ],
            "text/plain": [
              "              Customer Name   Segment  Age  ...           State Postal Code Region\n",
              "Customer ID                                 ...                                   \n",
              "CG-12520        Claire Gute  Consumer   67  ...        Kentucky       42420  South\n",
              "SO-20335     Sean O'Donnell  Consumer   65  ...         Florida       33311  South\n",
              "AA-10480       Andrew Allen  Consumer   50  ...  North Carolina       28027  South\n",
              "\n",
              "[3 rows x 8 columns]"
            ]
          },
          "metadata": {
            "tags": []
          },
          "execution_count": 65
        }
      ]
    },
    {
      "cell_type": "markdown",
      "metadata": {
        "id": "I9RDGGFLow8T"
      },
      "source": [
        "# 'Seaborn' Library"
      ]
    },
    {
      "cell_type": "code",
      "metadata": {
        "id": "-1BRf-KLo3EY"
      },
      "source": [
        "import seaborn as sns"
      ],
      "execution_count": 66,
      "outputs": []
    },
    {
      "cell_type": "code",
      "metadata": {
        "colab": {
          "base_uri": "https://localhost:8080/",
          "height": 386
        },
        "id": "X_KS9xZ-o_L_",
        "outputId": "2fbcbe59-93ef-4ccc-a7a8-7a866ff25965"
      },
      "source": [
        "sns.displot(data2.Age)"
      ],
      "execution_count": 67,
      "outputs": [
        {
          "output_type": "execute_result",
          "data": {
            "text/plain": [
              "<seaborn.axisgrid.FacetGrid at 0x7ff58d10ca90>"
            ]
          },
          "metadata": {
            "tags": []
          },
          "execution_count": 67
        },
        {
          "output_type": "display_data",
          "data": {
            "image/png": "[encoded data removed]",
            "text/plain": [
              "<Figure size 360x360 with 1 Axes>"
            ]
          },
          "metadata": {
            "tags": [],
            "needs_background": "light"
          }
        }
      ]
    },
    {
      "cell_type": "code",
      "metadata": {
        "colab": {
          "base_uri": "https://localhost:8080/",
          "height": 386
        },
        "id": "zwCJrliTpFAa",
        "outputId": "d630e567-c6c9-4bc3-f492-cd709084e3eb"
      },
      "source": [
        "sns.displot(data2.Age,kde=False)"
      ],
      "execution_count": 69,
      "outputs": [
        {
          "output_type": "execute_result",
          "data": {
            "text/plain": [
              "<seaborn.axisgrid.FacetGrid at 0x7ff59c343f50>"
            ]
          },
          "metadata": {
            "tags": []
          },
          "execution_count": 69
        },
        {
          "output_type": "display_data",
          "data": {
            "image/png": "[encoded data removed]",
            "text/plain": [
              "<Figure size 360x360 with 1 Axes>"
            ]
          },
          "metadata": {
            "tags": [],
            "needs_background": "light"
          }
        }
      ]
    },
    {
      "cell_type": "code",
      "metadata": {
        "colab": {
          "base_uri": "https://localhost:8080/"
        },
        "id": "3_ENEH8RpVC-",
        "outputId": "6e62482a-56e2-4807-d1be-8c05df7f8f2a"
      },
      "source": [
        "help(sns.displot)"
      ],
      "execution_count": 70,
      "outputs": [
        {
          "output_type": "stream",
          "text": [
            "Help on function displot in module seaborn.distributions:\n",
            "\n",
            "displot(data=None, *, x=None, y=None, hue=None, row=None, col=None, weights=None, kind='hist', rug=False, rug_kws=None, log_scale=None, legend=True, palette=None, hue_order=None, hue_norm=None, color=None, col_wrap=None, row_order=None, col_order=None, height=5, aspect=1, facet_kws=None, **kwargs)\n",
            "    Figure-level interface for drawing distribution plots onto a FacetGrid.\n",
            "    \n",
            "    This function provides access to several approaches for visualizing the\n",
            "    univariate or bivariate distribution of data, including subsets of data\n",
            "    defined by semantic mapping and faceting across multiple subplots. The\n",
            "    ``kind`` parameter selects the approach to use:\n",
            "    \n",
            "    - :func:`histplot` (with ``kind=\"hist\"``; the default)\n",
            "    - :func:`kdeplot` (with ``kind=\"kde\"``)\n",
            "    - :func:`ecdfplot` (with ``kind=\"ecdf\"``; univariate-only)\n",
            "    \n",
            "    Additionally, a :func:`rugplot` can be added to any kind of plot to show\n",
            "    individual observations.\n",
            "    \n",
            "    Extra keyword arguments are passed to the underlying function, so you should\n",
            "    refer to the documentation for each to understand the complete set of options\n",
            "    for making plots with this interface.\n",
            "    \n",
            "    See the :doc:`distribution plots tutorial <../tutorial/distributions>` for a more\n",
            "    in-depth discussion of the relative strengths and weaknesses of each approach.\n",
            "    The distinction between figure-level and axes-level functions is explained\n",
            "    further in the :doc:`user guide <../tutorial/function_overview>`.\n",
            "    \n",
            "    Parameters\n",
            "    ----------\n",
            "    data : :class:`pandas.DataFrame`, :class:`numpy.ndarray`, mapping, or sequence\n",
            "        Input data structure. Either a long-form collection of vectors that can be\n",
            "        assigned to named variables or a wide-form dataset that will be internally\n",
            "        reshaped.\n",
            "    x, y : vectors or keys in ``data``\n",
            "        Variables that specify positions on the x and y axes.\n",
            "    hue : vector or key in ``data``\n",
            "        Semantic variable that is mapped to determine the color of plot elements.\n",
            "    row, col : vectors or keys in ``data``\n",
            "        Variables that define subsets to plot on different facets.    \n",
            "    kind : {\"hist\", \"kde\", \"ecdf\"}\n",
            "        Approach for visualizing the data. Selects the underlying plotting function\n",
            "        and determines the additional set of valid parameters.\n",
            "    rug : bool\n",
            "        If True, show each observation with marginal ticks (as in :func:`rugplot`).\n",
            "    rug_kws : dict\n",
            "        Parameters to control the appearance of the rug plot.\n",
            "    log_scale : bool or number, or pair of bools or numbers\n",
            "        Set a log scale on the data axis (or axes, with bivariate data) with the\n",
            "        given base (default 10), and evaluate the KDE in log space.\n",
            "    legend : bool\n",
            "        If False, suppress the legend for semantic variables.\n",
            "    palette : string, list, dict, or :class:`matplotlib.colors.Colormap`\n",
            "        Method for choosing the colors to use when mapping the ``hue`` semantic.\n",
            "        String values are passed to :func:`color_palette`. List or dict values\n",
            "        imply categorical mapping, while a colormap object implies numeric mapping.\n",
            "    hue_order : vector of strings\n",
            "        Specify the order of processing and plotting for categorical levels of the\n",
            "        ``hue`` semantic.\n",
            "    hue_norm : tuple or :class:`matplotlib.colors.Normalize`\n",
            "        Either a pair of values that set the normalization range in data units\n",
            "        or an object that will map from data units into a [0, 1] interval. Usage\n",
            "        implies numeric mapping.\n",
            "    color : :mod:`matplotlib color <matplotlib.colors>`\n",
            "        Single color specification for when hue mapping is not used. Otherwise, the\n",
            "        plot will try to hook into the matplotlib property cycle.\n",
            "    col_wrap : int\n",
            "        \"Wrap\" the column variable at this width, so that the column facets\n",
            "        span multiple rows. Incompatible with a ``row`` facet.    \n",
            "    {row,col}_order : vector of strings\n",
            "        Specify the order in which levels of the ``row`` and/or ``col`` variables\n",
            "        appear in the grid of subplots.    \n",
            "    height : scalar\n",
            "        Height (in inches) of each facet. See also: ``aspect``.    \n",
            "    aspect : scalar\n",
            "        Aspect ratio of each facet, so that ``aspect * height`` gives the width\n",
            "        of each facet in inches.    \n",
            "    facet_kws : dict\n",
            "        Additional parameters passed to :class:`FacetGrid`.\n",
            "    \n",
            "    kwargs\n",
            "        Other keyword arguments are documented with the relevant axes-level function:\n",
            "    \n",
            "        - :func:`histplot` (with ``kind=\"hist\"``)\n",
            "        - :func:`kdeplot` (with ``kind=\"kde\"``)\n",
            "        - :func:`ecdfplot` (with ``kind=\"ecdf\"``)\n",
            "    \n",
            "    Returns\n",
            "    -------\n",
            "    :class:`FacetGrid`\n",
            "        An object managing one or more subplots that correspond to conditional data\n",
            "        subsets with convenient methods for batch-setting of axes attributes.\n",
            "    \n",
            "    See Also\n",
            "    --------\n",
            "    histplot : Plot a histogram of binned counts with optional normalization or smoothing.\n",
            "    kdeplot : Plot univariate or bivariate distributions using kernel density estimation.\n",
            "    rugplot : Plot a tick at each observation value along the x and/or y axes.\n",
            "    ecdfplot : Plot empirical cumulative distribution functions.\n",
            "    jointplot : Draw a bivariate plot with univariate marginal distributions.\n",
            "    \n",
            "    Examples\n",
            "    --------\n",
            "    \n",
            "    See the API documentation for the axes-level functions for more details\n",
            "    about the breadth of options available for each plot kind.\n",
            "    \n",
            "    .. include:: ../docstrings/displot.rst\n",
            "\n"
          ],
          "name": "stdout"
        }
      ]
    },
    {
      "cell_type": "code",
      "metadata": {
        "colab": {
          "base_uri": "https://localhost:8080/",
          "height": 386
        },
        "id": "XXTcTOLjpZSC",
        "outputId": "9c0d4e2d-1c63-4518-e058-5ea8c4c78766"
      },
      "source": [
        "sns.displot(data2,rug=True)"
      ],
      "execution_count": 73,
      "outputs": [
        {
          "output_type": "execute_result",
          "data": {
            "text/plain": [
              "<seaborn.axisgrid.FacetGrid at 0x7ff582dd8b10>"
            ]
          },
          "metadata": {
            "tags": []
          },
          "execution_count": 73
        },
        {
          "output_type": "display_data",
          "data": {
            "image/png": "[encoded data removed]",
            "text/plain": [
              "<Figure size 454.25x360 with 1 Axes>"
            ]
          },
          "metadata": {
            "tags": [],
            "needs_background": "light"
          }
        }
      ]
    },
    {
      "cell_type": "code",
      "metadata": {
        "colab": {
          "base_uri": "https://localhost:8080/",
          "height": 386
        },
        "id": "ydIg0KGHp4F6",
        "outputId": "42cfedef-a791-40f6-ae5c-166862eb0991"
      },
      "source": [
        "sns.displot(data2.Age,rug=True)"
      ],
      "execution_count": 74,
      "outputs": [
        {
          "output_type": "execute_result",
          "data": {
            "text/plain": [
              "<seaborn.axisgrid.FacetGrid at 0x7ff582f94ed0>"
            ]
          },
          "metadata": {
            "tags": []
          },
          "execution_count": 74
        },
        {
          "output_type": "display_data",
          "data": {
            "image/png": "[encoded data removed]",
            "text/plain": [
              "<Figure size 360x360 with 1 Axes>"
            ]
          },
          "metadata": {
            "tags": [],
            "needs_background": "light"
          }
        }
      ]
    },
    {
      "cell_type": "code",
      "metadata": {
        "colab": {
          "base_uri": "https://localhost:8080/",
          "height": 386
        },
        "id": "R9XZk6PDp-QM",
        "outputId": "6f64e544-df86-4fad-921d-576f156f3fb1"
      },
      "source": [
        "sns.displot(data2.Age,kde=False,color=\"red\")"
      ],
      "execution_count": 75,
      "outputs": [
        {
          "output_type": "execute_result",
          "data": {
            "text/plain": [
              "<seaborn.axisgrid.FacetGrid at 0x7ff582a70c90>"
            ]
          },
          "metadata": {
            "tags": []
          },
          "execution_count": 75
        },
        {
          "output_type": "display_data",
          "data": {
            "image/png": "[encoded data removed]",
            "text/plain": [
              "<Figure size 360x360 with 1 Axes>"
            ]
          },
          "metadata": {
            "tags": [],
            "needs_background": "light"
          }
        }
      ]
    },
    {
      "cell_type": "code",
      "metadata": {
        "id": "nOGo-St4qIl4"
      },
      "source": [
        "iris=sns.load_dataset(\"iris\")"
      ],
      "execution_count": 76,
      "outputs": []
    },
    {
      "cell_type": "code",
      "metadata": {
        "colab": {
          "base_uri": "https://localhost:8080/",
          "height": 204
        },
        "id": "K1BzO3bIqOOh",
        "outputId": "d134ab6e-fedb-4bd4-8328-ae7c3bbf4382"
      },
      "source": [
        "iris.head()"
      ],
      "execution_count": 77,
      "outputs": [
        {
          "output_type": "execute_result",
          "data": {
            "text/html": [
              "<div>\n",
              "<style scoped>\n",
              "    .dataframe tbody tr th:only-of-type {\n",
              "        vertical-align: middle;\n",
              "    }\n",
              "\n",
              "    .dataframe tbody tr th {\n",
              "        vertical-align: top;\n",
              "    }\n",
              "\n",
              "    .dataframe thead th {\n",
              "        text-align: right;\n",
              "    }\n",
              "</style>\n",
              "<table border=\"1\" class=\"dataframe\">\n",
              "  <thead>\n",
              "    <tr style=\"text-align: right;\">\n",
              "      <th></th>\n",
              "      <th>sepal_length</th>\n",
              "      <th>sepal_width</th>\n",
              "      <th>petal_length</th>\n",
              "      <th>petal_width</th>\n",
              "      <th>species</th>\n",
              "    </tr>\n",
              "  </thead>\n",
              "  <tbody>\n",
              "    <tr>\n",
              "      <th>0</th>\n",
              "      <td>5.1</td>\n",
              "      <td>3.5</td>\n",
              "      <td>1.4</td>\n",
              "      <td>0.2</td>\n",
              "      <td>setosa</td>\n",
              "    </tr>\n",
              "    <tr>\n",
              "      <th>1</th>\n",
              "      <td>4.9</td>\n",
              "      <td>3.0</td>\n",
              "      <td>1.4</td>\n",
              "      <td>0.2</td>\n",
              "      <td>setosa</td>\n",
              "    </tr>\n",
              "    <tr>\n",
              "      <th>2</th>\n",
              "      <td>4.7</td>\n",
              "      <td>3.2</td>\n",
              "      <td>1.3</td>\n",
              "      <td>0.2</td>\n",
              "      <td>setosa</td>\n",
              "    </tr>\n",
              "    <tr>\n",
              "      <th>3</th>\n",
              "      <td>4.6</td>\n",
              "      <td>3.1</td>\n",
              "      <td>1.5</td>\n",
              "      <td>0.2</td>\n",
              "      <td>setosa</td>\n",
              "    </tr>\n",
              "    <tr>\n",
              "      <th>4</th>\n",
              "      <td>5.0</td>\n",
              "      <td>3.6</td>\n",
              "      <td>1.4</td>\n",
              "      <td>0.2</td>\n",
              "      <td>setosa</td>\n",
              "    </tr>\n",
              "  </tbody>\n",
              "</table>\n",
              "</div>"
            ],
            "text/plain": [
              "   sepal_length  sepal_width  petal_length  petal_width species\n",
              "0           5.1          3.5           1.4          0.2  setosa\n",
              "1           4.9          3.0           1.4          0.2  setosa\n",
              "2           4.7          3.2           1.3          0.2  setosa\n",
              "3           4.6          3.1           1.5          0.2  setosa\n",
              "4           5.0          3.6           1.4          0.2  setosa"
            ]
          },
          "metadata": {
            "tags": []
          },
          "execution_count": 77
        }
      ]
    },
    {
      "cell_type": "code",
      "metadata": {
        "colab": {
          "base_uri": "https://localhost:8080/"
        },
        "id": "nEQBasEcqRsm",
        "outputId": "2ae4261c-1c95-4c65-cce2-a9075bd2715c"
      },
      "source": [
        "iris.shape"
      ],
      "execution_count": 78,
      "outputs": [
        {
          "output_type": "execute_result",
          "data": {
            "text/plain": [
              "(150, 5)"
            ]
          },
          "metadata": {
            "tags": []
          },
          "execution_count": 78
        }
      ]
    },
    {
      "cell_type": "code",
      "metadata": {
        "colab": {
          "base_uri": "https://localhost:8080/",
          "height": 297
        },
        "id": "unN_UcLUqVjB",
        "outputId": "8e4f4886-c7d9-49e6-ef43-047d75a112bf"
      },
      "source": [
        "iris.describe()"
      ],
      "execution_count": 79,
      "outputs": [
        {
          "output_type": "execute_result",
          "data": {
            "text/html": [
              "<div>\n",
              "<style scoped>\n",
              "    .dataframe tbody tr th:only-of-type {\n",
              "        vertical-align: middle;\n",
              "    }\n",
              "\n",
              "    .dataframe tbody tr th {\n",
              "        vertical-align: top;\n",
              "    }\n",
              "\n",
              "    .dataframe thead th {\n",
              "        text-align: right;\n",
              "    }\n",
              "</style>\n",
              "<table border=\"1\" class=\"dataframe\">\n",
              "  <thead>\n",
              "    <tr style=\"text-align: right;\">\n",
              "      <th></th>\n",
              "      <th>sepal_length</th>\n",
              "      <th>sepal_width</th>\n",
              "      <th>petal_length</th>\n",
              "      <th>petal_width</th>\n",
              "    </tr>\n",
              "  </thead>\n",
              "  <tbody>\n",
              "    <tr>\n",
              "      <th>count</th>\n",
              "      <td>150.000000</td>\n",
              "      <td>150.000000</td>\n",
              "      <td>150.000000</td>\n",
              "      <td>150.000000</td>\n",
              "    </tr>\n",
              "    <tr>\n",
              "      <th>mean</th>\n",
              "      <td>5.843333</td>\n",
              "      <td>3.057333</td>\n",
              "      <td>3.758000</td>\n",
              "      <td>1.199333</td>\n",
              "    </tr>\n",
              "    <tr>\n",
              "      <th>std</th>\n",
              "      <td>0.828066</td>\n",
              "      <td>0.435866</td>\n",
              "      <td>1.765298</td>\n",
              "      <td>0.762238</td>\n",
              "    </tr>\n",
              "    <tr>\n",
              "      <th>min</th>\n",
              "      <td>4.300000</td>\n",
              "      <td>2.000000</td>\n",
              "      <td>1.000000</td>\n",
              "      <td>0.100000</td>\n",
              "    </tr>\n",
              "    <tr>\n",
              "      <th>25%</th>\n",
              "      <td>5.100000</td>\n",
              "      <td>2.800000</td>\n",
              "      <td>1.600000</td>\n",
              "      <td>0.300000</td>\n",
              "    </tr>\n",
              "    <tr>\n",
              "      <th>50%</th>\n",
              "      <td>5.800000</td>\n",
              "      <td>3.000000</td>\n",
              "      <td>4.350000</td>\n",
              "      <td>1.300000</td>\n",
              "    </tr>\n",
              "    <tr>\n",
              "      <th>75%</th>\n",
              "      <td>6.400000</td>\n",
              "      <td>3.300000</td>\n",
              "      <td>5.100000</td>\n",
              "      <td>1.800000</td>\n",
              "    </tr>\n",
              "    <tr>\n",
              "      <th>max</th>\n",
              "      <td>7.900000</td>\n",
              "      <td>4.400000</td>\n",
              "      <td>6.900000</td>\n",
              "      <td>2.500000</td>\n",
              "    </tr>\n",
              "  </tbody>\n",
              "</table>\n",
              "</div>"
            ],
            "text/plain": [
              "       sepal_length  sepal_width  petal_length  petal_width\n",
              "count    150.000000   150.000000    150.000000   150.000000\n",
              "mean       5.843333     3.057333      3.758000     1.199333\n",
              "std        0.828066     0.435866      1.765298     0.762238\n",
              "min        4.300000     2.000000      1.000000     0.100000\n",
              "25%        5.100000     2.800000      1.600000     0.300000\n",
              "50%        5.800000     3.000000      4.350000     1.300000\n",
              "75%        6.400000     3.300000      5.100000     1.800000\n",
              "max        7.900000     4.400000      6.900000     2.500000"
            ]
          },
          "metadata": {
            "tags": []
          },
          "execution_count": 79
        }
      ]
    },
    {
      "cell_type": "code",
      "metadata": {
        "colab": {
          "base_uri": "https://localhost:8080/",
          "height": 458
        },
        "id": "cm-G8OwRqZJI",
        "outputId": "2cac5a87-a110-4626-b14f-97b2f2678546"
      },
      "source": [
        "sns.jointplot(x=\"sepal_length\",y=\"sepal_width\",data=iris)"
      ],
      "execution_count": 80,
      "outputs": [
        {
          "output_type": "execute_result",
          "data": {
            "text/plain": [
              "<seaborn.axisgrid.JointGrid at 0x7ff582b79e50>"
            ]
          },
          "metadata": {
            "tags": []
          },
          "execution_count": 80
        },
        {
          "output_type": "display_data",
          "data": {
            "image/png": "[encoded data removed]",
            "text/plain": [
              "<Figure size 432x432 with 3 Axes>"
            ]
          },
          "metadata": {
            "tags": [],
            "needs_background": "light"
          }
        }
      ]
    },
    {
      "cell_type": "code",
      "metadata": {
        "colab": {
          "base_uri": "https://localhost:8080/",
          "height": 743
        },
        "id": "tZPlmib_qjdm",
        "outputId": "b29fa8dc-f78a-4b98-b8ad-19d9639d125d"
      },
      "source": [
        "sns.pairplot(iris)"
      ],
      "execution_count": 82,
      "outputs": [
        {
          "output_type": "execute_result",
          "data": {
            "text/plain": [
              "<seaborn.axisgrid.PairGrid at 0x7ff582e23f50>"
            ]
          },
          "metadata": {
            "tags": []
          },
          "execution_count": 82
        },
        {
          "output_type": "display_data",
          "data": {
            "image/png": "[encoded data removed]",
            "text/plain": [
              "<Figure size 720x720 with 20 Axes>"
            ]
          },
          "metadata": {
            "tags": [],
            "needs_background": "light"
          }
        }
      ]
    }
  ]
}