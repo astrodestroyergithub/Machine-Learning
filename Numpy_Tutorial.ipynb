{
 "cells": [
  {
   "cell_type": "markdown",
   "metadata": {},
   "source": [
    "# Numpy Tutorial"
   ]
  },
  {
   "cell_type": "code",
   "execution_count": 4,
   "metadata": {},
   "outputs": [],
   "source": [
    "import numpy as np"
   ]
  },
  {
   "cell_type": "markdown",
   "metadata": {},
   "source": [
    "## Creating Arrays using numpy"
   ]
  },
  {
   "cell_type": "code",
   "execution_count": 11,
   "metadata": {},
   "outputs": [
    {
     "name": "stdout",
     "output_type": "stream",
     "text": [
      "1D Array:  [1 2 3 4 5 6]\n",
      "2D Array: \n",
      " [[1 3 6]\n",
      " [3 7 4]\n",
      " [2 9 4]]\n"
     ]
    }
   ],
   "source": [
    "arr1 = np.array([1,2,3,4,5,6])\n",
    "arr2 = np.array([[1,3,6],[3,7,4],[2,9,4]])\n",
    "print(\"1D Array: \",arr1)\n",
    "print(\"2D Array: \\n\",arr2)"
   ]
  },
  {
   "cell_type": "markdown",
   "metadata": {},
   "source": [
    "## Some attributes of arrays"
   ]
  },
  {
   "cell_type": "code",
   "execution_count": 13,
   "metadata": {},
   "outputs": [
    {
     "name": "stdout",
     "output_type": "stream",
     "text": [
      "Type of array:  <class 'numpy.ndarray'>\n",
      "Datatype of the array elements:  object\n",
      "Shape of array:  (3,)\n",
      "Size of the array:  3\n",
      "Size of each item:  8\n",
      "No. od dimensions:  1\n",
      "No. of bytes:  24\n"
     ]
    }
   ],
   "source": [
    "arr3 = np.array([[34,76,12,93,23,55,70],[34,87,23],[33,88,66,11,99]])\n",
    "print(\"Type of array: \",type(arr3))\n",
    "print(\"Datatype of the array elements: \",arr3.dtype)\n",
    "print(\"Shape of array: \",arr3.shape)\n",
    "# no. of characters in the array\n",
    "print(\"Size of the array: \",arr3.size)\n",
    "print(\"Size of each item: \",arr3.itemsize)\n",
    "print(\"No. od dimensions: \",arr3.ndim)\n",
    "# no. of bytes of memory space occupied by the array\n",
    "print(\"No. of bytes: \",arr3.nbytes)"
   ]
  },
  {
   "cell_type": "markdown",
   "metadata": {},
   "source": [
    "## Some special array declaration format and manipulations"
   ]
  },
  {
   "cell_type": "code",
   "execution_count": 17,
   "metadata": {},
   "outputs": [
    {
     "data": {
      "text/plain": [
       "array([[5.e-324, 5.e-324],\n",
       "       [0.e+000, 0.e+000]])"
      ]
     },
     "execution_count": 17,
     "metadata": {},
     "output_type": "execute_result"
    }
   ],
   "source": [
    "# Row-Major (C-style) and Column-Major(Fortran-style) order\n",
    "arr4 = np.ndarray(shape=(2,2), dtype=float, order='F')\n",
    "arr4 # random"
   ]
  },
  {
   "cell_type": "code",
   "execution_count": 32,
   "metadata": {},
   "outputs": [
    {
     "data": {
      "text/plain": [
       "array([[6, 9, 1],\n",
       "       [7, 2, 3],\n",
       "       [5, 6, 1],\n",
       "       [2, 3, 4]])"
      ]
     },
     "execution_count": 32,
     "metadata": {},
     "output_type": "execute_result"
    }
   ],
   "source": [
    "arr5 = np.ndarray((4,3), buffer=np.array([2,6,9,1,7,2,3,5,6,1,2,3,4,5,7,4,6]), offset=np.int_().itemsize, dtype=int)\n",
    "arr5 # offset = 1*itemsize, i.e. skip first element"
   ]
  },
  {
   "cell_type": "code",
   "execution_count": 34,
   "metadata": {},
   "outputs": [
    {
     "data": {
      "text/plain": [
       "array([[6, 7, 5, 2],\n",
       "       [9, 2, 6, 3],\n",
       "       [1, 3, 1, 4]])"
      ]
     },
     "execution_count": 34,
     "metadata": {},
     "output_type": "execute_result"
    }
   ],
   "source": [
    "arr5.T # the transposed array"
   ]
  },
  {
   "cell_type": "code",
   "execution_count": 36,
   "metadata": {},
   "outputs": [
    {
     "data": {
      "text/plain": [
       "<memory at 0x000001CC2C442F28>"
      ]
     },
     "execution_count": 36,
     "metadata": {},
     "output_type": "execute_result"
    }
   ],
   "source": [
    "arr5.data # data -> Python buffer object pointing to the start of the array's data"
   ]
  },
  {
   "cell_type": "code",
   "execution_count": 39,
   "metadata": {},
   "outputs": [
    {
     "data": {
      "text/plain": [
       "  C_CONTIGUOUS : True\n",
       "  F_CONTIGUOUS : False\n",
       "  OWNDATA : False\n",
       "  WRITEABLE : True\n",
       "  ALIGNED : True\n",
       "  WRITEBACKIFCOPY : False\n",
       "  UPDATEIFCOPY : False"
      ]
     },
     "execution_count": 39,
     "metadata": {},
     "output_type": "execute_result"
    }
   ],
   "source": [
    "arr5.flags # flags -> displays the information of the memory layout of the array\n",
    "# the different labels displayed below are nothing but flags"
   ]
  },
  {
   "cell_type": "code",
   "execution_count": 40,
   "metadata": {},
   "outputs": [
    {
     "data": {
      "text/plain": [
       "<numpy.flatiter at 0x1cc1c6f1d60>"
      ]
     },
     "execution_count": 40,
     "metadata": {},
     "output_type": "execute_result"
    }
   ],
   "source": [
    "arr5.flat # flat -> a 1-D iterator over the array"
   ]
  },
  {
   "cell_type": "code",
   "execution_count": 42,
   "metadata": {},
   "outputs": [
    {
     "data": {
      "text/plain": [
       "array([[0, 0, 0],\n",
       "       [0, 0, 0],\n",
       "       [0, 0, 0],\n",
       "       [0, 0, 0]])"
      ]
     },
     "execution_count": 42,
     "metadata": {},
     "output_type": "execute_result"
    }
   ],
   "source": [
    "arr5.imag # imag -> the imaginary part of the array"
   ]
  },
  {
   "cell_type": "code",
   "execution_count": 43,
   "metadata": {},
   "outputs": [
    {
     "data": {
      "text/plain": [
       "array([[6, 9, 1],\n",
       "       [7, 2, 3],\n",
       "       [5, 6, 1],\n",
       "       [2, 3, 4]])"
      ]
     },
     "execution_count": 43,
     "metadata": {},
     "output_type": "execute_result"
    }
   ],
   "source": [
    "arr5.real # real -> the real part of the array"
   ]
  },
  {
   "cell_type": "code",
   "execution_count": 45,
   "metadata": {},
   "outputs": [
    {
     "data": {
      "text/plain": [
       "(12, 4)"
      ]
     },
     "execution_count": 45,
     "metadata": {},
     "output_type": "execute_result"
    }
   ],
   "source": [
    "arr5.strides # strides -> tuple of bytes to step in each direction while traversing an array"
   ]
  },
  {
   "cell_type": "markdown",
   "metadata": {},
   "source": [
    "## Creating special arrays"
   ]
  },
  {
   "cell_type": "code",
   "execution_count": 92,
   "metadata": {},
   "outputs": [
    {
     "name": "stdout",
     "output_type": "stream",
     "text": [
      "np.zeros(5):  [0. 0. 0. 0. 0.]\n",
      "\n",
      " np.zeros((3,4): \n",
      " [[0 0 0 0]\n",
      " [0 0 0 0]\n",
      " [0 0 0 0]]\n",
      "\n",
      " [[(0, 0) (0, 0) (0, 0)]\n",
      " [(0, 0) (0, 0) (0, 0)]]\n",
      "\n",
      " np.ones((3,4), dtype=float): \n",
      " [[1. 1. 1. 1.]\n",
      " [1. 1. 1. 1.]\n",
      " [1. 1. 1. 1.]]\n",
      "\n",
      " np.empty((3,4)):  [[9.76329770e-312 7.90505033e-322 0.00000000e+000 0.00000000e+000\n",
      "  1.89146896e-307 1.16095484e-028]\n",
      " [2.17230256e-153 1.96097649e+243 4.24819624e+180 1.05016932e-153\n",
      "  1.06442679e+223 1.03063392e-113]\n",
      " [7.98691959e-072 1.47210311e-052 3.42703236e-062 2.24749570e-057\n",
      "  2.64512447e+185 5.28609935e-085]\n",
      " [4.50909741e+198 8.04430783e-095 8.78959876e+198 1.96099265e+243\n",
      "  6.48224638e+170 3.67145870e+228]]\n",
      "\n",
      " Identity matrix:  \n",
      " [[1. 0. 0.]\n",
      " [0. 1. 0.]\n",
      " [0. 0. 1.]]\n",
      "\n",
      " Random array:  \n",
      " [[0.22583062 0.54397734 0.19697992]\n",
      " [0.70135781 0.77120282 0.08848229]\n",
      " [0.45378258 0.19396909 0.9403072 ]\n",
      " [0.92091643 0.33153189 0.29674678]]\n",
      "\n",
      " Random integer array:  \n",
      " [[0 6 2 6]\n",
      " [5 4 0 6]\n",
      " [0 1 6 3]]\n"
     ]
    }
   ],
   "source": [
    "x = np.zeros(5)\n",
    "print(\"np.zeros(5): \",x)\n",
    "x = np.zeros((3,4), dtype=int)\n",
    "print(\"\\n\",\"np.zeros((3,4):\",\"\\n\",x)\n",
    "# custom type\n",
    "x = np.zeros((2,3), dtype=[('x','i4'),('y','i4')])\n",
    "print(\"\\n\",x)\n",
    "x = np.ones((3,4), dtype=float)\n",
    "print(\"\\n\",\"np.ones((3,4), dtype=float):\",\"\\n\",x)\n",
    "# np.empty((x,y)) is different from np.zeros((x,y)) in the sense that it involves randomization & garbage values\n",
    "arr = np.empty((4,6))\n",
    "print(\"\\n\",\"np.empty((3,4)): \",arr)\n",
    "# identity matrix\n",
    "arr = np.eye(3,3)\n",
    "print(\"\\n\",\"Identity matrix: \",\"\\n\",arr)\n",
    "# random array\n",
    "arr = np.random.rand(4,3)\n",
    "print(\"\\n\",\"Random array: \",\"\\n\",arr)\n",
    "# random integer array\n",
    "arr = np.random.randint(7, size=(3,4))\n",
    "print(\"\\n\",\"Random integer array: \",\"\\n\",arr)"
   ]
  },
  {
   "cell_type": "markdown",
   "metadata": {},
   "source": [
    "## Array from existing data "
   ]
  },
  {
   "cell_type": "code",
   "execution_count": 95,
   "metadata": {},
   "outputs": [
    {
     "name": "stdout",
     "output_type": "stream",
     "text": [
      "[2 6 9 1]\n",
      "[ 2  8  4  7  0 19]  a[1]= 8\n",
      "[(2, 7, 6) (3, 5) (4, 4, 4)]\n",
      "{456, 2, 'world', 'hello'}\n",
      "[b'e' b'l' b'l' b'o' b' ']\n",
      "[0. 1. 2. 3. 4. 5. 6. 7. 8. 9.]\n",
      "[ 1  3  5  7  9 11]\n",
      "[ 2.          2.15686275  2.31372549  2.47058824  2.62745098  2.78431373\n",
      "  2.94117647  3.09803922  3.25490196  3.41176471  3.56862745  3.7254902\n",
      "  3.88235294  4.03921569  4.19607843  4.35294118  4.50980392  4.66666667\n",
      "  4.82352941  4.98039216  5.1372549   5.29411765  5.45098039  5.60784314\n",
      "  5.76470588  5.92156863  6.07843137  6.23529412  6.39215686  6.54901961\n",
      "  6.70588235  6.8627451   7.01960784  7.17647059  7.33333333  7.49019608\n",
      "  7.64705882  7.80392157  7.96078431  8.11764706  8.2745098   8.43137255\n",
      "  8.58823529  8.74509804  8.90196078  9.05882353  9.21568627  9.37254902\n",
      "  9.52941176  9.68627451  9.84313725 10.        ]\n"
     ]
    }
   ],
   "source": [
    "# ndarray from a list\n",
    "x = [2,6,9,1]\n",
    "a = np.asarray(x)\n",
    "print(a)\n",
    "# ndarray from a tuple\n",
    "x = (2,8,4,7,0,19)\n",
    "a = np.asarray(x)\n",
    "print(a, \" a[1]=\",a[1])\n",
    "# ndarray from list of tuples\n",
    "x = [(2,7,6),(3,5),(4,4,4)]\n",
    "a = np.asarray(x)\n",
    "print(a)\n",
    "# ndarray from a set\n",
    "x = {2,'hello',456,'world'}\n",
    "a = np.asarray(x)\n",
    "print(a)\n",
    "\n",
    "# the following example demonstrates the use of frombuffer function\n",
    "s = b'hello world'\n",
    "a = np.frombuffer(s, dtype='S1', count=5, offset=1)\n",
    "print(a)\n",
    "\n",
    "# the 'iter' method builds a list from an iterable object and  \n",
    "# 'fromiter' can be used to convert the iterface to an array for further display\n",
    "lst = range(10)\n",
    "x = iter(lst)\n",
    "a = np.fromiter(x, dtype=float)\n",
    "print(a)\n",
    "\n",
    "# creating arrays from arange()\n",
    "arr = np.arange(1,13,2)\n",
    "print(arr)\n",
    "\n",
    "# creating arrays with linspace\n",
    "arr = np.linspace(2,10,52)\n",
    "print(arr)"
   ]
  },
  {
   "cell_type": "markdown",
   "metadata": {},
   "source": [
    "## Slicing in arrays "
   ]
  },
  {
   "cell_type": "code",
   "execution_count": 108,
   "metadata": {},
   "outputs": [
    {
     "name": "stdout",
     "output_type": "stream",
     "text": [
      "arr7:  [ 2 78 34 19 33 76 23  2  9 44 83]\n",
      "arr[6:9]:  [23  2  9]\n",
      "arr7 after indirect modification:  [ 2 78 34 19 33 76 69  2  9 44 83]\n",
      "\n",
      " [[ 2  6  9  6]\n",
      " [ 3 87  3 19]\n",
      " [ 3  8 99 21]\n",
      " [45 87 21 63]]\n",
      "\n",
      " arr9[1:3,1:3]:  \n",
      " [[87  3]\n",
      " [ 8 99]]\n",
      "\n",
      " Column 2:  \n",
      " [ 6 87  8 87]\n",
      "\n",
      " Row 2:  \n",
      " [ 3 87  3 19]\n",
      "\n",
      " All elements:  \n",
      " [[ 2  6  9  6]\n",
      " [ 3 87  3 19]\n",
      " [ 3  8 99 21]\n",
      " [45 87 21 63]]\n",
      "\n",
      " Strides:  \n",
      " [[ 6  9]\n",
      " [ 8 99]]\n"
     ]
    }
   ],
   "source": [
    "arr7 = np.array([2,78,34,19,33,76,23,2,9,44,83])\n",
    "print(\"arr7: \",arr7)\n",
    "arr8 = arr7[6:9]\n",
    "print(\"arr[6:9]: \",arr8)\n",
    "arr8[0] = 69\n",
    "# print arr7 after doing the above modification\n",
    "# always remember: Numpy slicing creates a view of the org. array\n",
    "print(\"arr7 after indirect modification: \",arr7)\n",
    "\n",
    "# Slicing in 2D Arrays\n",
    "x = [[2,6,9,6],\n",
    "    [3,87,3,19],\n",
    "    [3,8,99,21],\n",
    "    [45,87,21,63]]\n",
    "arr9 = np.asarray(x)\n",
    "print(\"\\n\",arr9)\n",
    "print(\"\\n\",\"arr9[1:3,1:3]: \",\"\\n\",arr9[1:3,1:3])\n",
    "print(\"\\n\",\"Column 2: \",\"\\n\",arr9[:,1])\n",
    "print(\"\\n\",\"Row 2: \",\"\\n\",arr9[1,:])\n",
    "print(\"\\n\",\"All elements: \",\"\\n\",arr9[:,:])\n",
    "print(\"\\n\",\"Strides: \",\"\\n\",arr9[0::2,1:3])"
   ]
  },
  {
   "cell_type": "markdown",
   "metadata": {},
   "source": [
    "## More functions on Numpy"
   ]
  },
  {
   "cell_type": "code",
   "execution_count": 122,
   "metadata": {},
   "outputs": [
    {
     "name": "stdout",
     "output_type": "stream",
     "text": [
      "arr11.sum(axis=0):  [24 11  4]\n",
      "arr11.sum(axis=1):  [25 14]\n",
      "Row-wise sorting on arr11:\n",
      " [[ 2  3 20]\n",
      " [ 1  4  9]]\n",
      "Column-wise sorting on arr11:\n",
      " [[ 4  2  1]\n",
      " [20  9  3]]\n",
      "Our random array:\n",
      " [[ 274 1673   66 ...  170  336   78]\n",
      " [1599  388   45 ... 1382  108 1008]\n",
      " [1172  246 1403 ...  224  276 1746]\n",
      " ...\n",
      " [ 904 1418 1710 ...  298  658  204]\n",
      " [ 278  690  385 ... 1457  287  558]\n",
      " [1542 1155  673 ...  342 1243  947]]\n",
      "Transpose of arr12:\n",
      " [[2 3]\n",
      " [8 7]\n",
      " [5 0]]\n",
      "Dot pdt. of arr11 and arr13:\n",
      " [[71 74]\n",
      " [85 75]]\n",
      "Cross pdt. of arr11 and arr12:\n",
      " [[-14 -94 156]\n",
      " [ -7   3   1]]\n"
     ]
    }
   ],
   "source": [
    "arr10 = [[20,2,3],\n",
    "        [4,9,1]]\n",
    "arr11 = np.asarray(arr10)\n",
    "# axis=0 means row-wise\n",
    "print(\"arr11.sum(axis=0): \",arr11.sum(axis=0))\n",
    "# axis=1 means column-wise\n",
    "print(\"arr11.sum(axis=1): \",arr11.sum(axis=1))\n",
    "# sorting is by default done as axis=1\n",
    "print(\"Row-wise sorting on arr11:\\n\",np.sort(arr11))\n",
    "# sorting can be done Column-wise by writing axis=0\n",
    "print(\"Column-wise sorting on arr11:\\n\",np.sort(arr11, axis=0))\n",
    "\n",
    "arr12 = np.asarray([[2,8,5],[3,7,0]])\n",
    "arr13 = arr12.transpose()\n",
    "print(\"Transpose of arr12:\\n\",arr13)\n",
    "# let's do dot product of arr11 and arr13\n",
    "# Dot product can only be done if n(col1)=n(row2)\n",
    "print(\"Dot pdt. of arr11 and arr13:\\n\",arr11.dot(arr13))\n",
    "# let's print the cross product of arr11 and arr12\n",
    "print(\"Cross pdt. of arr11 and arr12:\\n\",np.cross(arr11,arr12))"
   ]
  },
  {
   "cell_type": "markdown",
   "metadata": {},
   "source": [
    "## Know all the Numpy functions! "
   ]
  },
  {
   "cell_type": "code",
   "execution_count": 115,
   "metadata": {},
   "outputs": [],
   "source": [
    "# dir(np)"
   ]
  },
  {
   "cell_type": "markdown",
   "metadata": {},
   "source": [
    "## Analyzing time-complexity for different kinds of sorting on 2D Arrays "
   ]
  },
  {
   "cell_type": "code",
   "execution_count": 148,
   "metadata": {},
   "outputs": [
    {
     "name": "stdout",
     "output_type": "stream",
     "text": [
      "Our random array:\n",
      " [[ 5482 13601   900 ... 16496 10397 14587]\n",
      " [11890 10481 13598 ...  9115  5847  7497]\n",
      " [ 7818  3925  8534 ...  2044  2359  1180]\n",
      " ...\n",
      " [  374  6117  7919 ...  7993  3425 15917]\n",
      " [10604  1641 12056 ...  4663 15723  8674]\n",
      " [10807 16781  9347 ... 15920 16373  3542]]\n",
      "Wall time: 0 ns\n"
     ]
    },
    {
     "data": {
      "text/plain": [
       "array([[    0,     0,     1, ...,     3,     2,     1],\n",
       "       [    3,     1,     2, ...,     5,     4,     2],\n",
       "       [    4,     2,     5, ...,     6,     6,     5],\n",
       "       ...,\n",
       "       [17530, 17531, 17533, ..., 17530, 17531, 17530],\n",
       "       [17531, 17531, 17533, ..., 17530, 17532, 17533],\n",
       "       [17532, 17531, 17534, ..., 17534, 17534, 17534]])"
      ]
     },
     "execution_count": 148,
     "metadata": {},
     "output_type": "execute_result"
    }
   ],
   "source": [
    "# time-complexity comparison in different sorting techniques when applied on large arrays\n",
    "a = np.random.randint(17535, size=(10000,1000))\n",
    "# a = [[2,4,8],[3,1,98],[54,2,8]]\n",
    "print(\"Our random array:\\n\",a)\n",
    "# DANGEROUS: do it at your own risk!\n",
    "# %time\n",
    "# np.sort(a, axis=0, kind='quicksort')\n",
    "%time\n",
    "np.sort(a, axis=0, kind='mergesort')\n",
    "# %time\n",
    "# np.sort(a, axis=0, kind='heapsort')"
   ]
  },
  {
   "cell_type": "markdown",
   "metadata": {},
   "source": [
    "## More on Numpy... "
   ]
  },
  {
   "cell_type": "code",
   "execution_count": 151,
   "metadata": {},
   "outputs": [
    {
     "data": {
      "text/plain": [
       "array([[ 2, 98, 43],\n",
       "       [ 1,  7,  3],\n",
       "       [87, 10, 44],\n",
       "       [34, 12, 98],\n",
       "       [90, 23, 56],\n",
       "       [87, 12, 23]])"
      ]
     },
     "execution_count": 151,
     "metadata": {},
     "output_type": "execute_result"
    }
   ],
   "source": [
    "# reshape() function\n",
    "arr14 = np.array([2,98,43,1,7,3,87,10,44,34,12,98,90,23,56,87,12,23])\n",
    "# arr14 = arr14.reshape((6,3))\n",
    "arr14"
   ]
  },
  {
   "cell_type": "code",
   "execution_count": 156,
   "metadata": {},
   "outputs": [
    {
     "name": "stdout",
     "output_type": "stream",
     "text": [
      "[ 3  0  5  4  7 10 16 13 17  9  2  8 14 15  6 12 11  1]\n",
      "3\n",
      "1\n"
     ]
    }
   ],
   "source": [
    "# argsort() function in numpy\n",
    "# this function shows the corresponding indexes of the elements in the org. array after they are fully sorted\n",
    "arr14 = np.array([2,98,43,1,7,3,87,10,44,34,12,98,90,23,56,87,12,23])\n",
    "print(np.argsort(arr14))\n",
    "# argmin() gives the first element of the argsort() created array\n",
    "print(np.argmin(arr14))\n",
    "# argmax() gives the last element of the argsort() created array\n",
    "print(np.argmax(arr14))"
   ]
  },
  {
   "cell_type": "code",
   "execution_count": 164,
   "metadata": {},
   "outputs": [
    {
     "name": "stdout",
     "output_type": "stream",
     "text": [
      "arr15: \n",
      " [[ 2 98 43]\n",
      " [ 1  7  3]\n",
      " [87 10 44]\n",
      " [34 12 98]\n",
      " [90 23 56]\n",
      " [87 12 23]]\n",
      "\n",
      "\n",
      "arr15.argsort():\n",
      " [[1 1 1]\n",
      " [0 2 5]\n",
      " [3 3 0]\n",
      " [2 5 2]\n",
      " [5 4 4]\n",
      " [4 0 3]]\n",
      "\n",
      "\n",
      "arr15.argsort():\n",
      " [[0 2 1]\n",
      " [0 2 1]\n",
      " [1 2 0]\n",
      " [1 0 2]\n",
      " [1 2 0]\n",
      " [1 2 0]]\n",
      "\n",
      "\n",
      "arr15.argmin():\n",
      " 3\n",
      "\n",
      "\n",
      "arr15.argmax():\n",
      " 1\n"
     ]
    }
   ],
   "source": [
    "# argsort(), argmin(), argmax() for 2D arrays\n",
    "arr14 = np.array([2,98,43,1,7,3,87,10,44,34,12,98,90,23,56,87,12,23])\n",
    "arr15 = arr14.reshape((6,3))\n",
    "print(\"arr15: \\n\",arr15)\n",
    "print(\"\\n\")\n",
    "print(\"arr15.argsort():\\n\",arr15.argsort(axis=0)) #column-wise\n",
    "print(\"\\n\")\n",
    "print(\"arr15.argsort():\\n\",arr15.argsort(axis=1)) #row-wise\n",
    "print(\"\\n\")\n",
    "print(\"arr15.argmin():\\n\",arr15.argmin())\n",
    "print(\"\\n\")\n",
    "print(\"arr15.argmax():\\n\",arr15.argmax())"
   ]
  },
  {
   "cell_type": "markdown",
   "metadata": {},
   "source": [
    "## Masking - Important concept in Image processing "
   ]
  },
  {
   "cell_type": "code",
   "execution_count": 165,
   "metadata": {},
   "outputs": [
    {
     "name": "stdout",
     "output_type": "stream",
     "text": [
      "[2 3 5 7]\n"
     ]
    }
   ],
   "source": [
    "arr11 = np.array([1,2,3,4,5,6,7,8,9])\n",
    "mask = np.array([0,1,1,0,1,0,1,0,0],dtype=bool)\n",
    "print(arr11[mask])"
   ]
  },
  {
   "cell_type": "markdown",
   "metadata": {},
   "source": [
    "## Yet some more methods..."
   ]
  },
  {
   "cell_type": "code",
   "execution_count": 166,
   "metadata": {},
   "outputs": [
    {
     "name": "stdout",
     "output_type": "stream",
     "text": [
      "[[1 2 3 4 5]\n",
      " [6 7 8 9 9]]\n",
      "Sum :\t 54\n",
      "Sum :\t [ 7  9 11 13 14]\n",
      "Prod :\t 3265920\n",
      "Prod :\t [ 6 14 24 36 45]\n",
      "Minimum :\t [1 2 3 4 5]\n",
      "Maximum :\t [6 7 8 9 9]\n",
      "Mean :\t [3.5 4.5 5.5 6.5 7. ]\n",
      "Variance:\t [6.25 6.25 6.25 6.25 4.  ]\n",
      "Standard Deviation:\t [2.5 2.5 2.5 2.5 2. ]\n",
      "Average:\t [3.5 4.5 5.5 6.5 7. ]\n",
      "Weighted Average:\t [3.66666667 8.33333333]\n"
     ]
    }
   ],
   "source": [
    "arr16 = np.array([[1,2,3,4,5],[6,7,8,9,9]])\n",
    "print(arr16)\n",
    "print(\"Sum :\\t\",np.sum(arr16))\n",
    "print(\"Sum :\\t\",np.sum(arr16,axis=0))\n",
    "print(\"Prod :\\t\",np.prod(arr16))\n",
    "print(\"Prod :\\t\",np.prod(arr16,axis=0))\n",
    "print(\"Minimum :\\t\",np.min(arr16,axis=0))\n",
    "print(\"Maximum :\\t\",np.max(arr16,axis=0))\n",
    "print(\"Mean :\\t\",np.mean(arr16,axis=0))\n",
    "print(\"Variance:\\t\",np.var(arr16,axis=0))\n",
    "print(\"Standard Deviation:\\t\",np.std(arr16,axis=0))\n",
    "print(\"Average:\\t\",np.average(arr16,axis=0))\n",
    "print(\"Weighted Average:\\t\",np.average(arr16,weights=[1,2,3,4,5],axis=1))"
   ]
  },
  {
   "cell_type": "markdown",
   "metadata": {},
   "source": [
    "## Scalar Operations - Arithmetic "
   ]
  },
  {
   "cell_type": "code",
   "execution_count": 167,
   "metadata": {},
   "outputs": [
    {
     "name": "stdout",
     "output_type": "stream",
     "text": [
      "Summation:\t [5 7 9]\n",
      "Difference:\t [-3 -3 -3]\n",
      "Previous output after adding 5: [2 2 2]\n"
     ]
    }
   ],
   "source": [
    "arr17 = np.array([1,2,3])\n",
    "arr18 = np.array([4,5,6])\n",
    "arr19 = arr17+arr18\n",
    "arr20 = arr17 - arr18\n",
    "print(\"Summation:\\t\",arr19)\n",
    "print(\"Difference:\\t\",arr20)\n",
    "arr20+=5\n",
    "print(\"Previous output after adding 5:\",arr20)"
   ]
  },
  {
   "cell_type": "markdown",
   "metadata": {},
   "source": [
    "## Relational Operations"
   ]
  },
  {
   "cell_type": "code",
   "execution_count": 168,
   "metadata": {},
   "outputs": [
    {
     "name": "stdout",
     "output_type": "stream",
     "text": [
      "[False False False]\n"
     ]
    }
   ],
   "source": [
    "result1 = arr17 == arr18\n",
    "print(result1)"
   ]
  },
  {
   "cell_type": "markdown",
   "metadata": {},
   "source": [
    "## Trignometric & Logarithmic operations "
   ]
  },
  {
   "cell_type": "code",
   "execution_count": 169,
   "metadata": {},
   "outputs": [
    {
     "name": "stdout",
     "output_type": "stream",
     "text": [
      "Sin values:\t [ 0.65028784 -0.98803162  0.85090352  0.89399666]\n",
      "Log value:\t [2.7080502  3.40119738 3.80666249 4.49980967]\n"
     ]
    }
   ],
   "source": [
    "arr21 = np.array([15,30,45,90])\n",
    "result2 = np.sin(arr21)\n",
    "print(\"Sin values:\\t\",result2)\n",
    "result3 = np.log(arr21)\n",
    "print(\"Log value:\\t\",result3)"
   ]
  },
  {
   "cell_type": "markdown",
   "metadata": {},
   "source": [
    "## Vector operations"
   ]
  },
  {
   "cell_type": "markdown",
   "metadata": {},
   "source": [
    "### Math - Scalar and Vector\n",
    "\n",
    "#### Scalar\n",
    "\n",
    "* np.add(a,1) -> Add 1 to each array element\n",
    "* np.subtract(a,2) -> Subtract 2 from each array element\n",
    "* np.multiply(a,3) -> Multiply each array element by 3\n",
    "* np.divide(a,4) -> Divide each array element by 4 (it returns np.nan for division by zero)\n",
    "* np.power(a,5) -> Raise each array element to the 5th power\n",
    "\n",
    "#### Vector Math\n",
    "\n",
    "* np.add(a1,a2) -> Elementwise add a2 to a1\n",
    "* np.subtract(a1,a2) -> Elementwise subtract a2 from a1\n",
    "* np.multiply(a1,a2) -> Elementwise multiply a1 by a2\n",
    "* np.divide(a1,a2) -> Elementwise divide a1 by a2\n",
    "* np.power(a1,a2) -> Elementwise raise a1 raised to the power of a2\n",
    "\n",
    "* np.array_equal(a1,a2) -> Returns True if the arrays have the same elements and shape *(Note - a1 == a2 -> Returns True if the arrays have the same elements)*\n",
    "* np.sqrt(a) -> Square root of each element in the array\n",
    "* np.round(a) -> Rounds to the nearest int"
   ]
  }
 ],
 "metadata": {
  "kernelspec": {
   "display_name": "Python 3",
   "language": "python",
   "name": "python3"
  },
  "language_info": {
   "codemirror_mode": {
    "name": "ipython",
    "version": 3
   },
   "file_extension": ".py",
   "mimetype": "text/x-python",
   "name": "python",
   "nbconvert_exporter": "python",
   "pygments_lexer": "ipython3",
   "version": "3.7.6"
  }
 },
 "nbformat": 4,
 "nbformat_minor": 4
}
