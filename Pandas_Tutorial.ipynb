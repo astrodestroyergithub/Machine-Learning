{
 "cells": [
  {
   "cell_type": "markdown",
   "metadata": {},
   "source": [
    "# Pandas Tutorial"
   ]
  },
  {
   "cell_type": "code",
   "execution_count": 1,
   "metadata": {},
   "outputs": [],
   "source": [
    "import pandas as pd\n",
    "import numpy as np"
   ]
  },
  {
   "cell_type": "code",
   "execution_count": 3,
   "metadata": {},
   "outputs": [],
   "source": [
    "df = pd.DataFrame()"
   ]
  },
  {
   "cell_type": "code",
   "execution_count": 4,
   "metadata": {},
   "outputs": [
    {
     "name": "stdout",
     "output_type": "stream",
     "text": [
      "Empty DataFrame\n",
      "Columns: []\n",
      "Index: []\n"
     ]
    }
   ],
   "source": [
    "print(df)"
   ]
  },
  {
   "cell_type": "code",
   "execution_count": 6,
   "metadata": {},
   "outputs": [
    {
     "data": {
      "text/html": [
       "<div>\n",
       "<style scoped>\n",
       "    .dataframe tbody tr th:only-of-type {\n",
       "        vertical-align: middle;\n",
       "    }\n",
       "\n",
       "    .dataframe tbody tr th {\n",
       "        vertical-align: top;\n",
       "    }\n",
       "\n",
       "    .dataframe thead th {\n",
       "        text-align: right;\n",
       "    }\n",
       "</style>\n",
       "<table border=\"1\" class=\"dataframe\">\n",
       "  <thead>\n",
       "    <tr style=\"text-align: right;\">\n",
       "      <th></th>\n",
       "      <th>0</th>\n",
       "      <th>1</th>\n",
       "      <th>2</th>\n",
       "      <th>3</th>\n",
       "    </tr>\n",
       "  </thead>\n",
       "  <tbody>\n",
       "    <tr>\n",
       "      <th>0</th>\n",
       "      <td>1</td>\n",
       "      <td>5</td>\n",
       "      <td>2</td>\n",
       "      <td>9</td>\n",
       "    </tr>\n",
       "    <tr>\n",
       "      <th>1</th>\n",
       "      <td>34</td>\n",
       "      <td>76</td>\n",
       "      <td>12</td>\n",
       "      <td>97</td>\n",
       "    </tr>\n",
       "    <tr>\n",
       "      <th>2</th>\n",
       "      <td>23</td>\n",
       "      <td>76</td>\n",
       "      <td>34</td>\n",
       "      <td>86</td>\n",
       "    </tr>\n",
       "    <tr>\n",
       "      <th>3</th>\n",
       "      <td>23</td>\n",
       "      <td>76</td>\n",
       "      <td>54</td>\n",
       "      <td>11</td>\n",
       "    </tr>\n",
       "    <tr>\n",
       "      <th>4</th>\n",
       "      <td>126</td>\n",
       "      <td>25</td>\n",
       "      <td>64</td>\n",
       "      <td>92</td>\n",
       "    </tr>\n",
       "    <tr>\n",
       "      <th>5</th>\n",
       "      <td>53</td>\n",
       "      <td>876</td>\n",
       "      <td>123</td>\n",
       "      <td>543</td>\n",
       "    </tr>\n",
       "    <tr>\n",
       "      <th>6</th>\n",
       "      <td>54</td>\n",
       "      <td>321</td>\n",
       "      <td>987</td>\n",
       "      <td>345</td>\n",
       "    </tr>\n",
       "  </tbody>\n",
       "</table>\n",
       "</div>"
      ],
      "text/plain": [
       "     0    1    2    3\n",
       "0    1    5    2    9\n",
       "1   34   76   12   97\n",
       "2   23   76   34   86\n",
       "3   23   76   54   11\n",
       "4  126   25   64   92\n",
       "5   53  876  123  543\n",
       "6   54  321  987  345"
      ]
     },
     "execution_count": 6,
     "metadata": {},
     "output_type": "execute_result"
    }
   ],
   "source": [
    "df1 = pd.DataFrame([[1,5,2,9],[34,76,12,97],[23,76,34,86],[23,76,54,11],[126,25,64,92],[53,876,123,543],[54,321,987,345]])\n",
    "df1"
   ]
  },
  {
   "cell_type": "code",
   "execution_count": 7,
   "metadata": {},
   "outputs": [
    {
     "data": {
      "text/html": [
       "<div>\n",
       "<style scoped>\n",
       "    .dataframe tbody tr th:only-of-type {\n",
       "        vertical-align: middle;\n",
       "    }\n",
       "\n",
       "    .dataframe tbody tr th {\n",
       "        vertical-align: top;\n",
       "    }\n",
       "\n",
       "    .dataframe thead th {\n",
       "        text-align: right;\n",
       "    }\n",
       "</style>\n",
       "<table border=\"1\" class=\"dataframe\">\n",
       "  <thead>\n",
       "    <tr style=\"text-align: right;\">\n",
       "      <th></th>\n",
       "      <th>0</th>\n",
       "      <th>1</th>\n",
       "      <th>2</th>\n",
       "      <th>3</th>\n",
       "    </tr>\n",
       "  </thead>\n",
       "  <tbody>\n",
       "    <tr>\n",
       "      <th>0</th>\n",
       "      <td>1</td>\n",
       "      <td>5</td>\n",
       "      <td>2</td>\n",
       "      <td>9</td>\n",
       "    </tr>\n",
       "    <tr>\n",
       "      <th>1</th>\n",
       "      <td>34</td>\n",
       "      <td>76</td>\n",
       "      <td>12</td>\n",
       "      <td>97</td>\n",
       "    </tr>\n",
       "    <tr>\n",
       "      <th>2</th>\n",
       "      <td>23</td>\n",
       "      <td>76</td>\n",
       "      <td>34</td>\n",
       "      <td>86</td>\n",
       "    </tr>\n",
       "  </tbody>\n",
       "</table>\n",
       "</div>"
      ],
      "text/plain": [
       "    0   1   2   3\n",
       "0   1   5   2   9\n",
       "1  34  76  12  97\n",
       "2  23  76  34  86"
      ]
     },
     "execution_count": 7,
     "metadata": {},
     "output_type": "execute_result"
    }
   ],
   "source": [
    "df1.head(3)"
   ]
  },
  {
   "cell_type": "code",
   "execution_count": 8,
   "metadata": {},
   "outputs": [
    {
     "data": {
      "text/html": [
       "<div>\n",
       "<style scoped>\n",
       "    .dataframe tbody tr th:only-of-type {\n",
       "        vertical-align: middle;\n",
       "    }\n",
       "\n",
       "    .dataframe tbody tr th {\n",
       "        vertical-align: top;\n",
       "    }\n",
       "\n",
       "    .dataframe thead th {\n",
       "        text-align: right;\n",
       "    }\n",
       "</style>\n",
       "<table border=\"1\" class=\"dataframe\">\n",
       "  <thead>\n",
       "    <tr style=\"text-align: right;\">\n",
       "      <th></th>\n",
       "      <th>0</th>\n",
       "      <th>1</th>\n",
       "      <th>2</th>\n",
       "      <th>3</th>\n",
       "    </tr>\n",
       "  </thead>\n",
       "  <tbody>\n",
       "    <tr>\n",
       "      <th>3</th>\n",
       "      <td>23</td>\n",
       "      <td>76</td>\n",
       "      <td>54</td>\n",
       "      <td>11</td>\n",
       "    </tr>\n",
       "    <tr>\n",
       "      <th>4</th>\n",
       "      <td>126</td>\n",
       "      <td>25</td>\n",
       "      <td>64</td>\n",
       "      <td>92</td>\n",
       "    </tr>\n",
       "    <tr>\n",
       "      <th>5</th>\n",
       "      <td>53</td>\n",
       "      <td>876</td>\n",
       "      <td>123</td>\n",
       "      <td>543</td>\n",
       "    </tr>\n",
       "    <tr>\n",
       "      <th>6</th>\n",
       "      <td>54</td>\n",
       "      <td>321</td>\n",
       "      <td>987</td>\n",
       "      <td>345</td>\n",
       "    </tr>\n",
       "  </tbody>\n",
       "</table>\n",
       "</div>"
      ],
      "text/plain": [
       "     0    1    2    3\n",
       "3   23   76   54   11\n",
       "4  126   25   64   92\n",
       "5   53  876  123  543\n",
       "6   54  321  987  345"
      ]
     },
     "execution_count": 8,
     "metadata": {},
     "output_type": "execute_result"
    }
   ],
   "source": [
    "df1.tail(4)"
   ]
  },
  {
   "cell_type": "code",
   "execution_count": 9,
   "metadata": {},
   "outputs": [
    {
     "data": {
      "text/plain": [
       "(7, 4)"
      ]
     },
     "execution_count": 9,
     "metadata": {},
     "output_type": "execute_result"
    }
   ],
   "source": [
    "df1.shape"
   ]
  },
  {
   "cell_type": "code",
   "execution_count": 10,
   "metadata": {},
   "outputs": [
    {
     "data": {
      "text/html": [
       "<div>\n",
       "<style scoped>\n",
       "    .dataframe tbody tr th:only-of-type {\n",
       "        vertical-align: middle;\n",
       "    }\n",
       "\n",
       "    .dataframe tbody tr th {\n",
       "        vertical-align: top;\n",
       "    }\n",
       "\n",
       "    .dataframe thead th {\n",
       "        text-align: right;\n",
       "    }\n",
       "</style>\n",
       "<table border=\"1\" class=\"dataframe\">\n",
       "  <thead>\n",
       "    <tr style=\"text-align: right;\">\n",
       "      <th></th>\n",
       "      <th>1</th>\n",
       "      <th>2</th>\n",
       "      <th>3</th>\n",
       "    </tr>\n",
       "  </thead>\n",
       "  <tbody>\n",
       "    <tr>\n",
       "      <th>1</th>\n",
       "      <td>76</td>\n",
       "      <td>12</td>\n",
       "      <td>97</td>\n",
       "    </tr>\n",
       "    <tr>\n",
       "      <th>2</th>\n",
       "      <td>76</td>\n",
       "      <td>34</td>\n",
       "      <td>86</td>\n",
       "    </tr>\n",
       "  </tbody>\n",
       "</table>\n",
       "</div>"
      ],
      "text/plain": [
       "    1   2   3\n",
       "1  76  12  97\n",
       "2  76  34  86"
      ]
     },
     "execution_count": 10,
     "metadata": {},
     "output_type": "execute_result"
    }
   ],
   "source": [
    "df1.iloc[1:3,1:4]"
   ]
  },
  {
   "cell_type": "markdown",
   "metadata": {},
   "source": [
    "## Building DataFrames with Pandas"
   ]
  },
  {
   "cell_type": "markdown",
   "metadata": {},
   "source": [
    "### From Python Dictionaries "
   ]
  },
  {
   "cell_type": "code",
   "execution_count": 11,
   "metadata": {},
   "outputs": [
    {
     "name": "stdout",
     "output_type": "stream",
     "text": [
      "[('ID', ['S1', 'S2', 'S3', 'S4', 'S5']), ('Maths', [98, 87, 98, 78, 82]), ('Physics', [78, 89, 100, 97, 89]), ('Chemistry', [56, 76, 87, 76, 98])]\n"
     ]
    }
   ],
   "source": [
    "list1 = ['S1','S2','S3','S4','S5']\n",
    "Maths = [98,87,98,78,82]\n",
    "Physics = [78,89,100,97,89]\n",
    "Chemistry = [56,76,87,76,98]\n",
    "title = ['ID','Maths','Physics','Chemistry']\n",
    "values = [list1, Maths, Physics, Chemistry]\n",
    "result = list(zip(title,values))\n",
    "print(result)"
   ]
  },
  {
   "cell_type": "code",
   "execution_count": 12,
   "metadata": {},
   "outputs": [
    {
     "data": {
      "text/html": [
       "<div>\n",
       "<style scoped>\n",
       "    .dataframe tbody tr th:only-of-type {\n",
       "        vertical-align: middle;\n",
       "    }\n",
       "\n",
       "    .dataframe tbody tr th {\n",
       "        vertical-align: top;\n",
       "    }\n",
       "\n",
       "    .dataframe thead th {\n",
       "        text-align: right;\n",
       "    }\n",
       "</style>\n",
       "<table border=\"1\" class=\"dataframe\">\n",
       "  <thead>\n",
       "    <tr style=\"text-align: right;\">\n",
       "      <th></th>\n",
       "      <th>ID</th>\n",
       "      <th>Maths</th>\n",
       "      <th>Physics</th>\n",
       "      <th>Chemistry</th>\n",
       "    </tr>\n",
       "  </thead>\n",
       "  <tbody>\n",
       "    <tr>\n",
       "      <th>0</th>\n",
       "      <td>S1</td>\n",
       "      <td>98</td>\n",
       "      <td>78</td>\n",
       "      <td>56</td>\n",
       "    </tr>\n",
       "    <tr>\n",
       "      <th>1</th>\n",
       "      <td>S2</td>\n",
       "      <td>87</td>\n",
       "      <td>89</td>\n",
       "      <td>76</td>\n",
       "    </tr>\n",
       "    <tr>\n",
       "      <th>2</th>\n",
       "      <td>S3</td>\n",
       "      <td>98</td>\n",
       "      <td>100</td>\n",
       "      <td>87</td>\n",
       "    </tr>\n",
       "    <tr>\n",
       "      <th>3</th>\n",
       "      <td>S4</td>\n",
       "      <td>78</td>\n",
       "      <td>97</td>\n",
       "      <td>76</td>\n",
       "    </tr>\n",
       "    <tr>\n",
       "      <th>4</th>\n",
       "      <td>S5</td>\n",
       "      <td>82</td>\n",
       "      <td>89</td>\n",
       "      <td>98</td>\n",
       "    </tr>\n",
       "  </tbody>\n",
       "</table>\n",
       "</div>"
      ],
      "text/plain": [
       "   ID  Maths  Physics  Chemistry\n",
       "0  S1     98       78         56\n",
       "1  S2     87       89         76\n",
       "2  S3     98      100         87\n",
       "3  S4     78       97         76\n",
       "4  S5     82       89         98"
      ]
     },
     "execution_count": 12,
     "metadata": {},
     "output_type": "execute_result"
    }
   ],
   "source": [
    "result1 = dict(result)\n",
    "df2 = pd.DataFrame(result1)\n",
    "df2"
   ]
  },
  {
   "cell_type": "markdown",
   "metadata": {},
   "source": [
    "## Importing data"
   ]
  },
  {
   "cell_type": "markdown",
   "metadata": {},
   "source": [
    "### DataFrames from CSV files "
   ]
  },
  {
   "cell_type": "code",
   "execution_count": 19,
   "metadata": {},
   "outputs": [
    {
     "data": {
      "text/html": [
       "<div>\n",
       "<style scoped>\n",
       "    .dataframe tbody tr th:only-of-type {\n",
       "        vertical-align: middle;\n",
       "    }\n",
       "\n",
       "    .dataframe tbody tr th {\n",
       "        vertical-align: top;\n",
       "    }\n",
       "\n",
       "    .dataframe thead th {\n",
       "        text-align: right;\n",
       "    }\n",
       "</style>\n",
       "<table border=\"1\" class=\"dataframe\">\n",
       "  <thead>\n",
       "    <tr style=\"text-align: right;\">\n",
       "      <th></th>\n",
       "      <th>INSTRUMENT</th>\n",
       "      <th>SYMBOL</th>\n",
       "      <th>OPEN_PRICE</th>\n",
       "      <th>HI_PRICE</th>\n",
       "      <th>LO_PRICE</th>\n",
       "      <th>CLOSE_PRICE</th>\n",
       "      <th>OPEN_INT</th>\n",
       "      <th>TRD_VAL</th>\n",
       "      <th>TRD_QTY</th>\n",
       "      <th>NO_OF_CONT</th>\n",
       "      <th>NO_OF_TRADE</th>\n",
       "    </tr>\n",
       "  </thead>\n",
       "  <tbody>\n",
       "    <tr>\n",
       "      <th>0</th>\n",
       "      <td>FUTIDX</td>\n",
       "      <td>BANKNIFTY</td>\n",
       "      <td>29375.50</td>\n",
       "      <td>29608.00</td>\n",
       "      <td>28820.00</td>\n",
       "      <td>28912.05</td>\n",
       "      <td>1751025</td>\n",
       "      <td>2.410000e+11</td>\n",
       "      <td>8233350</td>\n",
       "      <td>329334</td>\n",
       "      <td>231443</td>\n",
       "    </tr>\n",
       "    <tr>\n",
       "      <th>1</th>\n",
       "      <td>FUTIDX</td>\n",
       "      <td>BANKNIFTY</td>\n",
       "      <td>29410.05</td>\n",
       "      <td>29635.90</td>\n",
       "      <td>28849.95</td>\n",
       "      <td>28944.65</td>\n",
       "      <td>263975</td>\n",
       "      <td>1.333577e+10</td>\n",
       "      <td>455425</td>\n",
       "      <td>18217</td>\n",
       "      <td>13694</td>\n",
       "    </tr>\n",
       "    <tr>\n",
       "      <th>2</th>\n",
       "      <td>FUTIDX</td>\n",
       "      <td>BANKNIFTY</td>\n",
       "      <td>29879.95</td>\n",
       "      <td>29879.95</td>\n",
       "      <td>28864.20</td>\n",
       "      <td>28951.75</td>\n",
       "      <td>38925</td>\n",
       "      <td>1.510821e+09</td>\n",
       "      <td>51650</td>\n",
       "      <td>2066</td>\n",
       "      <td>1404</td>\n",
       "    </tr>\n",
       "    <tr>\n",
       "      <th>3</th>\n",
       "      <td>FUTIDX</td>\n",
       "      <td>NIFTY</td>\n",
       "      <td>12857.70</td>\n",
       "      <td>12976.25</td>\n",
       "      <td>12753.00</td>\n",
       "      <td>12793.50</td>\n",
       "      <td>11622900</td>\n",
       "      <td>1.690000e+11</td>\n",
       "      <td>13082775</td>\n",
       "      <td>174437</td>\n",
       "      <td>120635</td>\n",
       "    </tr>\n",
       "    <tr>\n",
       "      <th>4</th>\n",
       "      <td>FUTIDX</td>\n",
       "      <td>NIFTY</td>\n",
       "      <td>12897.45</td>\n",
       "      <td>12989.70</td>\n",
       "      <td>12777.35</td>\n",
       "      <td>12811.60</td>\n",
       "      <td>2042025</td>\n",
       "      <td>1.542744e+10</td>\n",
       "      <td>1196025</td>\n",
       "      <td>15947</td>\n",
       "      <td>12190</td>\n",
       "    </tr>\n",
       "    <tr>\n",
       "      <th>...</th>\n",
       "      <td>...</td>\n",
       "      <td>...</td>\n",
       "      <td>...</td>\n",
       "      <td>...</td>\n",
       "      <td>...</td>\n",
       "      <td>...</td>\n",
       "      <td>...</td>\n",
       "      <td>...</td>\n",
       "      <td>...</td>\n",
       "      <td>...</td>\n",
       "      <td>...</td>\n",
       "    </tr>\n",
       "    <tr>\n",
       "      <th>390</th>\n",
       "      <td>FUTSTK</td>\n",
       "      <td>WIPRO</td>\n",
       "      <td>344.10</td>\n",
       "      <td>348.15</td>\n",
       "      <td>341.35</td>\n",
       "      <td>342.00</td>\n",
       "      <td>6352000</td>\n",
       "      <td>1.998892e+09</td>\n",
       "      <td>5811200</td>\n",
       "      <td>1816</td>\n",
       "      <td>1290</td>\n",
       "    </tr>\n",
       "    <tr>\n",
       "      <th>391</th>\n",
       "      <td>FUTSTK</td>\n",
       "      <td>WIPRO</td>\n",
       "      <td>345.50</td>\n",
       "      <td>347.25</td>\n",
       "      <td>343.00</td>\n",
       "      <td>343.00</td>\n",
       "      <td>115200</td>\n",
       "      <td>3.645296e+07</td>\n",
       "      <td>105600</td>\n",
       "      <td>33</td>\n",
       "      <td>33</td>\n",
       "    </tr>\n",
       "    <tr>\n",
       "      <th>392</th>\n",
       "      <td>FUTSTK</td>\n",
       "      <td>ZEEL</td>\n",
       "      <td>189.30</td>\n",
       "      <td>192.50</td>\n",
       "      <td>185.65</td>\n",
       "      <td>186.95</td>\n",
       "      <td>32193000</td>\n",
       "      <td>2.278077e+09</td>\n",
       "      <td>12021000</td>\n",
       "      <td>4007</td>\n",
       "      <td>3719</td>\n",
       "    </tr>\n",
       "    <tr>\n",
       "      <th>393</th>\n",
       "      <td>FUTSTK</td>\n",
       "      <td>ZEEL</td>\n",
       "      <td>189.85</td>\n",
       "      <td>193.00</td>\n",
       "      <td>186.40</td>\n",
       "      <td>187.55</td>\n",
       "      <td>2694000</td>\n",
       "      <td>6.321768e+08</td>\n",
       "      <td>3321000</td>\n",
       "      <td>1107</td>\n",
       "      <td>962</td>\n",
       "    </tr>\n",
       "    <tr>\n",
       "      <th>394</th>\n",
       "      <td>FUTSTK</td>\n",
       "      <td>ZEEL</td>\n",
       "      <td>192.20</td>\n",
       "      <td>193.00</td>\n",
       "      <td>187.50</td>\n",
       "      <td>187.65</td>\n",
       "      <td>96000</td>\n",
       "      <td>8.546400e+06</td>\n",
       "      <td>45000</td>\n",
       "      <td>15</td>\n",
       "      <td>15</td>\n",
       "    </tr>\n",
       "  </tbody>\n",
       "</table>\n",
       "<p>395 rows × 11 columns</p>\n",
       "</div>"
      ],
      "text/plain": [
       "     INSTRUMENT      SYMBOL  OPEN_PRICE   HI_PRICE    LO_PRICE     \\\n",
       "0    FUTIDX      BANKNIFTY      29375.50    29608.00     28820.00   \n",
       "1    FUTIDX      BANKNIFTY      29410.05    29635.90     28849.95   \n",
       "2    FUTIDX      BANKNIFTY      29879.95    29879.95     28864.20   \n",
       "3    FUTIDX      NIFTY          12857.70    12976.25     12753.00   \n",
       "4    FUTIDX      NIFTY          12897.45    12989.70     12777.35   \n",
       "..          ...         ...          ...         ...          ...   \n",
       "390  FUTSTK      WIPRO            344.10      348.15       341.35   \n",
       "391  FUTSTK      WIPRO            345.50      347.25       343.00   \n",
       "392  FUTSTK      ZEEL             189.30      192.50       185.65   \n",
       "393  FUTSTK      ZEEL             189.85      193.00       186.40   \n",
       "394  FUTSTK      ZEEL             192.20      193.00       187.50   \n",
       "\n",
       "     CLOSE_PRICE  OPEN_INT  TRD_VAL             TRD_QTY            \\\n",
       "0       28912.05   1751025        2.410000e+11            8233350   \n",
       "1       28944.65    263975        1.333577e+10             455425   \n",
       "2       28951.75     38925        1.510821e+09              51650   \n",
       "3       12793.50  11622900        1.690000e+11           13082775   \n",
       "4       12811.60   2042025        1.542744e+10            1196025   \n",
       "..           ...       ...                 ...                ...   \n",
       "390       342.00   6352000        1.998892e+09            5811200   \n",
       "391       343.00    115200        3.645296e+07             105600   \n",
       "392       186.95  32193000        2.278077e+09           12021000   \n",
       "393       187.55   2694000        6.321768e+08            3321000   \n",
       "394       187.65     96000        8.546400e+06              45000   \n",
       "\n",
       "     NO_OF_CONT         NO_OF_TRADE  \n",
       "0               329334       231443  \n",
       "1                18217        13694  \n",
       "2                 2066         1404  \n",
       "3               174437       120635  \n",
       "4                15947        12190  \n",
       "..                 ...          ...  \n",
       "390               1816         1290  \n",
       "391                 33           33  \n",
       "392               4007         3719  \n",
       "393               1107          962  \n",
       "394                 15           15  \n",
       "\n",
       "[395 rows x 11 columns]"
      ]
     },
     "execution_count": 19,
     "metadata": {},
     "output_type": "execute_result"
    }
   ],
   "source": [
    "df3 = pd.read_csv('F:\\\\Programming\\\\Git_Materials\\\\DataHouse\\\\data.csv')\n",
    "df3"
   ]
  },
  {
   "cell_type": "code",
   "execution_count": 26,
   "metadata": {},
   "outputs": [
    {
     "name": "stdout",
     "output_type": "stream",
     "text": [
      "int64\n"
     ]
    }
   ],
   "source": [
    "print(df3['OPEN_INT'].dtype)"
   ]
  },
  {
   "cell_type": "code",
   "execution_count": 27,
   "metadata": {},
   "outputs": [
    {
     "data": {
      "text/plain": [
       "dtype('int64')"
      ]
     },
     "execution_count": 27,
     "metadata": {},
     "output_type": "execute_result"
    }
   ],
   "source": [
    "df3['OPEN_INT'].dtype"
   ]
  },
  {
   "cell_type": "markdown",
   "metadata": {},
   "source": [
    "## Saving processed DataFrames "
   ]
  },
  {
   "cell_type": "markdown",
   "metadata": {},
   "source": [
    "### To CSV files "
   ]
  },
  {
   "cell_type": "code",
   "execution_count": 38,
   "metadata": {},
   "outputs": [],
   "source": [
    "df4 = pd.DataFrame([[2,65,3,78],[23,76,8,2],[23,87,56,44],[23,76,87,45],[2,7,9,43]],columns=['A1','B1','C1','D1'])\n",
    "# exporting csv file to the desired file location after making it from the DataFrame\n",
    "# df4.to_csv('F:\\\\Programming\\\\Git_Materials\\\\DataHouse\\\\export.csv', index=False)\n",
    "df4.to_csv('F:\\\\Programming\\\\Git_Materials\\\\DataHouse\\\\export.csv')"
   ]
  },
  {
   "cell_type": "markdown",
   "metadata": {},
   "source": [
    "## Pandas - Operations "
   ]
  },
  {
   "cell_type": "markdown",
   "metadata": {},
   "source": [
    "### Creating index for entities "
   ]
  },
  {
   "cell_type": "code",
   "execution_count": 45,
   "metadata": {},
   "outputs": [
    {
     "data": {
      "text/html": [
       "<div>\n",
       "<style scoped>\n",
       "    .dataframe tbody tr th:only-of-type {\n",
       "        vertical-align: middle;\n",
       "    }\n",
       "\n",
       "    .dataframe tbody tr th {\n",
       "        vertical-align: top;\n",
       "    }\n",
       "\n",
       "    .dataframe thead th {\n",
       "        text-align: right;\n",
       "    }\n",
       "</style>\n",
       "<table border=\"1\" class=\"dataframe\">\n",
       "  <thead>\n",
       "    <tr style=\"text-align: right;\">\n",
       "      <th></th>\n",
       "      <th>sname</th>\n",
       "      <th>confirmed</th>\n",
       "      <th>dead</th>\n",
       "      <th>recovered</th>\n",
       "      <th>active</th>\n",
       "    </tr>\n",
       "    <tr>\n",
       "      <th>dname</th>\n",
       "      <th></th>\n",
       "      <th></th>\n",
       "      <th></th>\n",
       "      <th></th>\n",
       "      <th></th>\n",
       "    </tr>\n",
       "  </thead>\n",
       "  <tbody>\n",
       "    <tr>\n",
       "      <th>NICOBARS</th>\n",
       "      <td>ANDAMAN AND NICOBAR ISLANDS</td>\n",
       "      <td>0</td>\n",
       "      <td>0</td>\n",
       "      <td>0</td>\n",
       "      <td>0</td>\n",
       "    </tr>\n",
       "    <tr>\n",
       "      <th>NORTH AND MIDDLE ANDAMAN</th>\n",
       "      <td>ANDAMAN AND NICOBAR ISLANDS</td>\n",
       "      <td>1</td>\n",
       "      <td>0</td>\n",
       "      <td>1</td>\n",
       "      <td>0</td>\n",
       "    </tr>\n",
       "    <tr>\n",
       "      <th>SOUTH ANDAMAN</th>\n",
       "      <td>ANDAMAN AND NICOBAR ISLANDS</td>\n",
       "      <td>51</td>\n",
       "      <td>0</td>\n",
       "      <td>32</td>\n",
       "      <td>19</td>\n",
       "    </tr>\n",
       "    <tr>\n",
       "      <th>UNKNOWN</th>\n",
       "      <td>ANDAMAN AND NICOBAR ISLANDS</td>\n",
       "      <td>4368</td>\n",
       "      <td>60</td>\n",
       "      <td>4161</td>\n",
       "      <td>147</td>\n",
       "    </tr>\n",
       "    <tr>\n",
       "      <th>ANANTAPUR</th>\n",
       "      <td>ANDHRA PRADESH</td>\n",
       "      <td>65408</td>\n",
       "      <td>571</td>\n",
       "      <td>63715</td>\n",
       "      <td>1122</td>\n",
       "    </tr>\n",
       "  </tbody>\n",
       "</table>\n",
       "</div>"
      ],
      "text/plain": [
       "                                                sname  confirmed  dead  \\\n",
       "dname                                                                    \n",
       "NICOBARS                  ANDAMAN AND NICOBAR ISLANDS          0     0   \n",
       "NORTH AND MIDDLE ANDAMAN  ANDAMAN AND NICOBAR ISLANDS          1     0   \n",
       "SOUTH ANDAMAN             ANDAMAN AND NICOBAR ISLANDS         51     0   \n",
       "UNKNOWN                   ANDAMAN AND NICOBAR ISLANDS       4368    60   \n",
       "ANANTAPUR                              ANDHRA PRADESH      65408   571   \n",
       "\n",
       "                          recovered  active  \n",
       "dname                                        \n",
       "NICOBARS                          0       0  \n",
       "NORTH AND MIDDLE ANDAMAN          1       0  \n",
       "SOUTH ANDAMAN                    32      19  \n",
       "UNKNOWN                        4161     147  \n",
       "ANANTAPUR                     63715    1122  "
      ]
     },
     "execution_count": 45,
     "metadata": {},
     "output_type": "execute_result"
    }
   ],
   "source": [
    "df5 = pd.read_csv('F:\\\\Programming\\\\Git_Materials\\\\DataHouse\\\\district_covid_cases.csv')\n",
    "# setting 'dname' as the index\n",
    "df5.set_index('dname', inplace=True)\n",
    "df5.head(5)"
   ]
  },
  {
   "cell_type": "markdown",
   "metadata": {},
   "source": [
    "### Type and information about DataFrame "
   ]
  },
  {
   "cell_type": "code",
   "execution_count": 47,
   "metadata": {},
   "outputs": [
    {
     "name": "stdout",
     "output_type": "stream",
     "text": [
      "Type:\n",
      " <class 'pandas.core.frame.DataFrame'>\n",
      "Information about the dataframe: <bound method DataFrame.info of                                                 sname  confirmed  dead  \\\n",
      "dname                                                                    \n",
      "NICOBARS                  ANDAMAN AND NICOBAR ISLANDS          0     0   \n",
      "NORTH AND MIDDLE ANDAMAN  ANDAMAN AND NICOBAR ISLANDS          1     0   \n",
      "SOUTH ANDAMAN             ANDAMAN AND NICOBAR ISLANDS         51     0   \n",
      "UNKNOWN                   ANDAMAN AND NICOBAR ISLANDS       4368    60   \n",
      "ANANTAPUR                              ANDHRA PRADESH      65408   571   \n",
      "...                                               ...        ...   ...   \n",
      "NORTH 24 PARGANAS                         WEST BENGAL      81377  1657   \n",
      "PASCHIM BARDHAMAN                         WEST BENGAL      10959   106   \n",
      "PASCHIM MEDINIPUR                         WEST BENGAL      15266   221   \n",
      "PURBA MEDINIPUR                           WEST BENGAL      15685   203   \n",
      "SOUTH 24 PARGANAS                         WEST BENGAL      26258   488   \n",
      "\n",
      "                          recovered  active  \n",
      "dname                                        \n",
      "NICOBARS                          0       0  \n",
      "NORTH AND MIDDLE ANDAMAN          1       0  \n",
      "SOUTH ANDAMAN                    32      19  \n",
      "UNKNOWN                        4161     147  \n",
      "ANANTAPUR                     63715    1122  \n",
      "...                             ...     ...  \n",
      "NORTH 24 PARGANAS             72871    6849  \n",
      "PASCHIM BARDHAMAN              9738    1115  \n",
      "PASCHIM MEDINIPUR             13325    1720  \n",
      "PURBA MEDINIPUR               14015    1467  \n",
      "SOUTH 24 PARGANAS             23296    2474  \n",
      "\n",
      "[286 rows x 5 columns]>\n"
     ]
    }
   ],
   "source": [
    "print(\"Type:\\n\",type(df5))\n",
    "print(\"Information about the dataframe:\",df5.info)"
   ]
  },
  {
   "cell_type": "markdown",
   "metadata": {},
   "source": [
    "### Shape of a DataFrame"
   ]
  },
  {
   "cell_type": "code",
   "execution_count": 50,
   "metadata": {},
   "outputs": [
    {
     "name": "stdout",
     "output_type": "stream",
     "text": [
      "Shape of datafframe: (286, 5)\n"
     ]
    }
   ],
   "source": [
    "print(\"Shape of datafframe:\",df5.shape)\n",
    "# df5.drop_duplicates()\n",
    "# print(df5.shape)"
   ]
  },
  {
   "cell_type": "markdown",
   "metadata": {},
   "source": [
    "### Some operations on DataFrames... "
   ]
  },
  {
   "cell_type": "code",
   "execution_count": 52,
   "metadata": {},
   "outputs": [
    {
     "name": "stdout",
     "output_type": "stream",
     "text": [
      "Columns of dataframe:\t Index(['sname', 'confirmed', 'dead', 'recovered', 'active'], dtype='object')\n"
     ]
    }
   ],
   "source": [
    "# columns of DataFrames\n",
    "print(\"Columns of dataframe:\\t\",df5.columns)"
   ]
  },
  {
   "cell_type": "code",
   "execution_count": 53,
   "metadata": {},
   "outputs": [
    {
     "name": "stdout",
     "output_type": "stream",
     "text": [
      "Columns of dataframe:\t Index(['state_name', 'confirmed', 'dead', 'recovered', 'active'], dtype='object')\n"
     ]
    }
   ],
   "source": [
    "# rename the attributes of the dataframe\n",
    "df5.rename(columns={'sname':'state_name'},inplace=True)\n",
    "print(\"Columns of dataframe:\\t\",df5.columns)"
   ]
  },
  {
   "cell_type": "markdown",
   "metadata": {},
   "source": [
    "### Merging two DataFrames "
   ]
  },
  {
   "cell_type": "code",
   "execution_count": 54,
   "metadata": {},
   "outputs": [
    {
     "data": {
      "text/html": [
       "<div>\n",
       "<style scoped>\n",
       "    .dataframe tbody tr th:only-of-type {\n",
       "        vertical-align: middle;\n",
       "    }\n",
       "\n",
       "    .dataframe tbody tr th {\n",
       "        vertical-align: top;\n",
       "    }\n",
       "\n",
       "    .dataframe thead th {\n",
       "        text-align: right;\n",
       "    }\n",
       "</style>\n",
       "<table border=\"1\" class=\"dataframe\">\n",
       "  <thead>\n",
       "    <tr style=\"text-align: right;\">\n",
       "      <th></th>\n",
       "      <th>A</th>\n",
       "      <th>B</th>\n",
       "      <th>C</th>\n",
       "    </tr>\n",
       "  </thead>\n",
       "  <tbody>\n",
       "    <tr>\n",
       "      <th>0</th>\n",
       "      <td>2</td>\n",
       "      <td>6</td>\n",
       "      <td>8</td>\n",
       "    </tr>\n",
       "    <tr>\n",
       "      <th>1</th>\n",
       "      <td>63</td>\n",
       "      <td>87</td>\n",
       "      <td>91</td>\n",
       "    </tr>\n",
       "    <tr>\n",
       "      <th>2</th>\n",
       "      <td>4</td>\n",
       "      <td>8</td>\n",
       "      <td>1</td>\n",
       "    </tr>\n",
       "  </tbody>\n",
       "</table>\n",
       "</div>"
      ],
      "text/plain": [
       "    A   B   C\n",
       "0   2   6   8\n",
       "1  63  87  91\n",
       "2   4   8   1"
      ]
     },
     "execution_count": 54,
     "metadata": {},
     "output_type": "execute_result"
    }
   ],
   "source": [
    "df6 = pd.DataFrame([[2,6,8],[63,87,91],[4,8,1]], columns=['A','B','C'])\n",
    "df6"
   ]
  },
  {
   "cell_type": "code",
   "execution_count": 58,
   "metadata": {},
   "outputs": [
    {
     "data": {
      "text/html": [
       "<div>\n",
       "<style scoped>\n",
       "    .dataframe tbody tr th:only-of-type {\n",
       "        vertical-align: middle;\n",
       "    }\n",
       "\n",
       "    .dataframe tbody tr th {\n",
       "        vertical-align: top;\n",
       "    }\n",
       "\n",
       "    .dataframe thead th {\n",
       "        text-align: right;\n",
       "    }\n",
       "</style>\n",
       "<table border=\"1\" class=\"dataframe\">\n",
       "  <thead>\n",
       "    <tr style=\"text-align: right;\">\n",
       "      <th></th>\n",
       "      <th>X</th>\n",
       "      <th>Y</th>\n",
       "      <th>Z</th>\n",
       "    </tr>\n",
       "  </thead>\n",
       "  <tbody>\n",
       "    <tr>\n",
       "      <th>0</th>\n",
       "      <td>4</td>\n",
       "      <td>6</td>\n",
       "      <td>1</td>\n",
       "    </tr>\n",
       "    <tr>\n",
       "      <th>1</th>\n",
       "      <td>63</td>\n",
       "      <td>86</td>\n",
       "      <td>91</td>\n",
       "    </tr>\n",
       "    <tr>\n",
       "      <th>2</th>\n",
       "      <td>7</td>\n",
       "      <td>8</td>\n",
       "      <td>3</td>\n",
       "    </tr>\n",
       "  </tbody>\n",
       "</table>\n",
       "</div>"
      ],
      "text/plain": [
       "    X   Y   Z\n",
       "0   4   6   1\n",
       "1  63  86  91\n",
       "2   7   8   3"
      ]
     },
     "execution_count": 58,
     "metadata": {},
     "output_type": "execute_result"
    }
   ],
   "source": [
    "df7 = pd.DataFrame([[4,6,1],[63,86,91],[7,8,3]], columns=['X','Y','Z'])\n",
    "df7"
   ]
  },
  {
   "cell_type": "code",
   "execution_count": 59,
   "metadata": {},
   "outputs": [
    {
     "data": {
      "text/html": [
       "<div>\n",
       "<style scoped>\n",
       "    .dataframe tbody tr th:only-of-type {\n",
       "        vertical-align: middle;\n",
       "    }\n",
       "\n",
       "    .dataframe tbody tr th {\n",
       "        vertical-align: top;\n",
       "    }\n",
       "\n",
       "    .dataframe thead th {\n",
       "        text-align: right;\n",
       "    }\n",
       "</style>\n",
       "<table border=\"1\" class=\"dataframe\">\n",
       "  <thead>\n",
       "    <tr style=\"text-align: right;\">\n",
       "      <th></th>\n",
       "      <th>A</th>\n",
       "      <th>B</th>\n",
       "      <th>C</th>\n",
       "      <th>X</th>\n",
       "      <th>Y</th>\n",
       "      <th>Z</th>\n",
       "    </tr>\n",
       "  </thead>\n",
       "  <tbody>\n",
       "    <tr>\n",
       "      <th>0</th>\n",
       "      <td>2</td>\n",
       "      <td>6</td>\n",
       "      <td>8</td>\n",
       "      <td>4</td>\n",
       "      <td>6</td>\n",
       "      <td>1</td>\n",
       "    </tr>\n",
       "    <tr>\n",
       "      <th>1</th>\n",
       "      <td>4</td>\n",
       "      <td>8</td>\n",
       "      <td>1</td>\n",
       "      <td>7</td>\n",
       "      <td>8</td>\n",
       "      <td>3</td>\n",
       "    </tr>\n",
       "  </tbody>\n",
       "</table>\n",
       "</div>"
      ],
      "text/plain": [
       "   A  B  C  X  Y  Z\n",
       "0  2  6  8  4  6  1\n",
       "1  4  8  1  7  8  3"
      ]
     },
     "execution_count": 59,
     "metadata": {},
     "output_type": "execute_result"
    }
   ],
   "source": [
    "df8 = pd.merge(df6, df7, left_on='B', right_on='Y')\n",
    "df8"
   ]
  }
 ],
 "metadata": {
  "kernelspec": {
   "display_name": "Python 3",
   "language": "python",
   "name": "python3"
  },
  "language_info": {
   "codemirror_mode": {
    "name": "ipython",
    "version": 3
   },
   "file_extension": ".py",
   "mimetype": "text/x-python",
   "name": "python",
   "nbconvert_exporter": "python",
   "pygments_lexer": "ipython3",
   "version": "3.7.6"
  }
 },
 "nbformat": 4,
 "nbformat_minor": 4
}
